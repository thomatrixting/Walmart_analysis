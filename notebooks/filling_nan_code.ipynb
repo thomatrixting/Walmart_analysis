{
 "cells": [
  {
   "cell_type": "markdown",
   "source": "# preparation",
   "metadata": {
    "tags": [],
    "cell_id": "b229a487-cd7a-4629-88fc-2cf76a5d49ed",
    "deepnote_cell_type": "markdown",
    "deepnote_cell_height": 82
   }
  },
  {
   "cell_type": "code",
   "metadata": {
    "tags": [],
    "deepnote_to_be_reexecuted": false,
    "source_hash": "3bde84f3",
    "execution_start": 1655767469190,
    "execution_millis": 4,
    "cell_id": "00001-2b5f6589-ccb5-4cf2-a3e0-b693c3b84349",
    "deepnote_cell_type": "code",
    "deepnote_cell_height": 166
   },
   "source": "import pyhere\nroot = pyhere.here().resolve()\n\nprint(root)",
   "outputs": [
    {
     "name": "stdout",
     "text": "/work/Walmart_analysis\n",
     "output_type": "stream"
    }
   ],
   "execution_count": null
  },
  {
   "cell_type": "code",
   "metadata": {
    "tags": [],
    "deepnote_to_be_reexecuted": false,
    "source_hash": "641487e4",
    "execution_start": 1655767469191,
    "execution_millis": 24,
    "cell_id": "00002-9273030d-dfe3-494a-9c33-bdd4fc161f13",
    "deepnote_cell_type": "code",
    "deepnote_cell_height": 81
   },
   "source": "import kaggle",
   "outputs": [],
   "execution_count": null
  },
  {
   "cell_type": "code",
   "metadata": {
    "tags": [],
    "deepnote_to_be_reexecuted": false,
    "source_hash": "24b26b86",
    "execution_start": 1655767469215,
    "execution_millis": 1979,
    "cell_id": "00003-dc3e3f51-8ad4-4481-9e2b-c12167fb484a",
    "deepnote_cell_type": "code",
    "deepnote_cell_height": 135
   },
   "source": "import pandas as pd\nimport numpy as np\nimport matplotlib.pyplot as plt\nimport seaborn as sns",
   "outputs": [],
   "execution_count": null
  },
  {
   "cell_type": "markdown",
   "source": "# data processing",
   "metadata": {
    "tags": [],
    "cell_id": "00004-e419c26b-4173-4403-8554-f97bacae9d11",
    "deepnote_cell_type": "markdown",
    "deepnote_cell_height": 82
   }
  },
  {
   "cell_type": "markdown",
   "source": "## data extraccion",
   "metadata": {
    "tags": [],
    "cell_id": "00005-eade1b13-e730-4c61-9b7b-b18c4c6e2e46",
    "deepnote_cell_type": "markdown",
    "deepnote_cell_height": 70
   }
  },
  {
   "cell_type": "code",
   "metadata": {
    "tags": [],
    "deepnote_to_be_reexecuted": false,
    "source_hash": "e58edfd9",
    "execution_start": 1655767471198,
    "execution_millis": 1506,
    "cell_id": "00006-bda84d4e-8a92-4f88-8389-a0e3be6cdc39",
    "deepnote_cell_type": "code",
    "deepnote_cell_height": 152
   },
   "source": "!kaggle datasets download -d aslanahmedov/walmart-sales-forecast -p {root.joinpath('data')} --unzip",
   "outputs": [
    {
     "name": "stdout",
     "text": "Downloading walmart-sales-forecast.zip to /work/Walmart_analysis/data\n  0%|                                               | 0.00/3.36M [00:00<?, ?B/s]\n100%|██████████████████████████████████████| 3.36M/3.36M [00:00<00:00, 81.2MB/s]\n",
     "output_type": "stream"
    }
   ],
   "execution_count": null
  },
  {
   "cell_type": "code",
   "metadata": {
    "tags": [],
    "deepnote_to_be_reexecuted": false,
    "source_hash": "95d3ec9",
    "execution_start": 1655767472703,
    "execution_millis": 98,
    "cell_id": "00007-28f5d038-b7d6-4335-80d9-a14a44907a25",
    "deepnote_cell_type": "code",
    "deepnote_cell_height": 307
   },
   "source": "features = pd.read_csv(root.joinpath('data','features.csv'))\nfeatures.head(2)",
   "outputs": [
    {
     "output_type": "execute_result",
     "execution_count": 5,
     "data": {
      "application/vnd.deepnote.dataframe.v3+json": {
       "column_count": 12,
       "row_count": 2,
       "columns": [
        {
         "name": "Store",
         "dtype": "int64",
         "stats": {
          "unique_count": 1,
          "nan_count": 0,
          "min": "1",
          "max": "1",
          "histogram": [
           {
            "bin_start": 0.5,
            "bin_end": 0.6,
            "count": 0
           },
           {
            "bin_start": 0.6,
            "bin_end": 0.7,
            "count": 0
           },
           {
            "bin_start": 0.7,
            "bin_end": 0.8,
            "count": 0
           },
           {
            "bin_start": 0.8,
            "bin_end": 0.9,
            "count": 0
           },
           {
            "bin_start": 0.9,
            "bin_end": 1,
            "count": 0
           },
           {
            "bin_start": 1,
            "bin_end": 1.1,
            "count": 2
           },
           {
            "bin_start": 1.1,
            "bin_end": 1.2000000000000002,
            "count": 0
           },
           {
            "bin_start": 1.2000000000000002,
            "bin_end": 1.3,
            "count": 0
           },
           {
            "bin_start": 1.3,
            "bin_end": 1.4,
            "count": 0
           },
           {
            "bin_start": 1.4,
            "bin_end": 1.5,
            "count": 0
           }
          ]
         }
        },
        {
         "name": "Date",
         "dtype": "object",
         "stats": {
          "unique_count": 2,
          "nan_count": 0,
          "categories": [
           {
            "name": "2010-02-05",
            "count": 1
           },
           {
            "name": "2010-02-12",
            "count": 1
           }
          ]
         }
        },
        {
         "name": "Temperature",
         "dtype": "float64",
         "stats": {
          "unique_count": 2,
          "nan_count": 0,
          "min": "38.51",
          "max": "42.31",
          "histogram": [
           {
            "bin_start": 38.51,
            "bin_end": 38.89,
            "count": 1
           },
           {
            "bin_start": 38.89,
            "bin_end": 39.269999999999996,
            "count": 0
           },
           {
            "bin_start": 39.269999999999996,
            "bin_end": 39.65,
            "count": 0
           },
           {
            "bin_start": 39.65,
            "bin_end": 40.03,
            "count": 0
           },
           {
            "bin_start": 40.03,
            "bin_end": 40.41,
            "count": 0
           },
           {
            "bin_start": 40.41,
            "bin_end": 40.79,
            "count": 0
           },
           {
            "bin_start": 40.79,
            "bin_end": 41.17,
            "count": 0
           },
           {
            "bin_start": 41.17,
            "bin_end": 41.550000000000004,
            "count": 0
           },
           {
            "bin_start": 41.550000000000004,
            "bin_end": 41.93,
            "count": 0
           },
           {
            "bin_start": 41.93,
            "bin_end": 42.31,
            "count": 1
           }
          ]
         }
        },
        {
         "name": "Fuel_Price",
         "dtype": "float64",
         "stats": {
          "unique_count": 2,
          "nan_count": 0,
          "min": "2.548",
          "max": "2.572",
          "histogram": [
           {
            "bin_start": 2.548,
            "bin_end": 2.5504000000000002,
            "count": 1
           },
           {
            "bin_start": 2.5504000000000002,
            "bin_end": 2.5528,
            "count": 0
           },
           {
            "bin_start": 2.5528,
            "bin_end": 2.5552,
            "count": 0
           },
           {
            "bin_start": 2.5552,
            "bin_end": 2.5576,
            "count": 0
           },
           {
            "bin_start": 2.5576,
            "bin_end": 2.56,
            "count": 0
           },
           {
            "bin_start": 2.56,
            "bin_end": 2.5624000000000002,
            "count": 0
           },
           {
            "bin_start": 2.5624000000000002,
            "bin_end": 2.5648,
            "count": 0
           },
           {
            "bin_start": 2.5648,
            "bin_end": 2.5672,
            "count": 0
           },
           {
            "bin_start": 2.5672,
            "bin_end": 2.5696,
            "count": 0
           },
           {
            "bin_start": 2.5696,
            "bin_end": 2.572,
            "count": 1
           }
          ]
         }
        },
        {
         "name": "MarkDown1",
         "dtype": "float64",
         "stats": {
          "unique_count": 0,
          "nan_count": 2,
          "min": null,
          "max": null,
          "histogram": [
           {
            "bin_start": 0,
            "bin_end": 0.1,
            "count": 0
           },
           {
            "bin_start": 0.1,
            "bin_end": 0.2,
            "count": 0
           },
           {
            "bin_start": 0.2,
            "bin_end": 0.30000000000000004,
            "count": 0
           },
           {
            "bin_start": 0.30000000000000004,
            "bin_end": 0.4,
            "count": 0
           },
           {
            "bin_start": 0.4,
            "bin_end": 0.5,
            "count": 0
           },
           {
            "bin_start": 0.5,
            "bin_end": 0.6000000000000001,
            "count": 0
           },
           {
            "bin_start": 0.6000000000000001,
            "bin_end": 0.7000000000000001,
            "count": 0
           },
           {
            "bin_start": 0.7000000000000001,
            "bin_end": 0.8,
            "count": 0
           },
           {
            "bin_start": 0.8,
            "bin_end": 0.9,
            "count": 0
           },
           {
            "bin_start": 0.9,
            "bin_end": 1,
            "count": 0
           }
          ]
         }
        },
        {
         "name": "MarkDown2",
         "dtype": "float64",
         "stats": {
          "unique_count": 0,
          "nan_count": 2,
          "min": null,
          "max": null,
          "histogram": [
           {
            "bin_start": 0,
            "bin_end": 0.1,
            "count": 0
           },
           {
            "bin_start": 0.1,
            "bin_end": 0.2,
            "count": 0
           },
           {
            "bin_start": 0.2,
            "bin_end": 0.30000000000000004,
            "count": 0
           },
           {
            "bin_start": 0.30000000000000004,
            "bin_end": 0.4,
            "count": 0
           },
           {
            "bin_start": 0.4,
            "bin_end": 0.5,
            "count": 0
           },
           {
            "bin_start": 0.5,
            "bin_end": 0.6000000000000001,
            "count": 0
           },
           {
            "bin_start": 0.6000000000000001,
            "bin_end": 0.7000000000000001,
            "count": 0
           },
           {
            "bin_start": 0.7000000000000001,
            "bin_end": 0.8,
            "count": 0
           },
           {
            "bin_start": 0.8,
            "bin_end": 0.9,
            "count": 0
           },
           {
            "bin_start": 0.9,
            "bin_end": 1,
            "count": 0
           }
          ]
         }
        },
        {
         "name": "MarkDown3",
         "dtype": "float64",
         "stats": {
          "unique_count": 0,
          "nan_count": 2,
          "min": null,
          "max": null,
          "histogram": [
           {
            "bin_start": 0,
            "bin_end": 0.1,
            "count": 0
           },
           {
            "bin_start": 0.1,
            "bin_end": 0.2,
            "count": 0
           },
           {
            "bin_start": 0.2,
            "bin_end": 0.30000000000000004,
            "count": 0
           },
           {
            "bin_start": 0.30000000000000004,
            "bin_end": 0.4,
            "count": 0
           },
           {
            "bin_start": 0.4,
            "bin_end": 0.5,
            "count": 0
           },
           {
            "bin_start": 0.5,
            "bin_end": 0.6000000000000001,
            "count": 0
           },
           {
            "bin_start": 0.6000000000000001,
            "bin_end": 0.7000000000000001,
            "count": 0
           },
           {
            "bin_start": 0.7000000000000001,
            "bin_end": 0.8,
            "count": 0
           },
           {
            "bin_start": 0.8,
            "bin_end": 0.9,
            "count": 0
           },
           {
            "bin_start": 0.9,
            "bin_end": 1,
            "count": 0
           }
          ]
         }
        },
        {
         "name": "MarkDown4",
         "dtype": "float64",
         "stats": {
          "unique_count": 0,
          "nan_count": 2,
          "min": null,
          "max": null,
          "histogram": [
           {
            "bin_start": 0,
            "bin_end": 0.1,
            "count": 0
           },
           {
            "bin_start": 0.1,
            "bin_end": 0.2,
            "count": 0
           },
           {
            "bin_start": 0.2,
            "bin_end": 0.30000000000000004,
            "count": 0
           },
           {
            "bin_start": 0.30000000000000004,
            "bin_end": 0.4,
            "count": 0
           },
           {
            "bin_start": 0.4,
            "bin_end": 0.5,
            "count": 0
           },
           {
            "bin_start": 0.5,
            "bin_end": 0.6000000000000001,
            "count": 0
           },
           {
            "bin_start": 0.6000000000000001,
            "bin_end": 0.7000000000000001,
            "count": 0
           },
           {
            "bin_start": 0.7000000000000001,
            "bin_end": 0.8,
            "count": 0
           },
           {
            "bin_start": 0.8,
            "bin_end": 0.9,
            "count": 0
           },
           {
            "bin_start": 0.9,
            "bin_end": 1,
            "count": 0
           }
          ]
         }
        },
        {
         "name": "MarkDown5",
         "dtype": "float64",
         "stats": {
          "unique_count": 0,
          "nan_count": 2,
          "min": null,
          "max": null,
          "histogram": [
           {
            "bin_start": 0,
            "bin_end": 0.1,
            "count": 0
           },
           {
            "bin_start": 0.1,
            "bin_end": 0.2,
            "count": 0
           },
           {
            "bin_start": 0.2,
            "bin_end": 0.30000000000000004,
            "count": 0
           },
           {
            "bin_start": 0.30000000000000004,
            "bin_end": 0.4,
            "count": 0
           },
           {
            "bin_start": 0.4,
            "bin_end": 0.5,
            "count": 0
           },
           {
            "bin_start": 0.5,
            "bin_end": 0.6000000000000001,
            "count": 0
           },
           {
            "bin_start": 0.6000000000000001,
            "bin_end": 0.7000000000000001,
            "count": 0
           },
           {
            "bin_start": 0.7000000000000001,
            "bin_end": 0.8,
            "count": 0
           },
           {
            "bin_start": 0.8,
            "bin_end": 0.9,
            "count": 0
           },
           {
            "bin_start": 0.9,
            "bin_end": 1,
            "count": 0
           }
          ]
         }
        },
        {
         "name": "CPI",
         "dtype": "float64",
         "stats": {
          "unique_count": 2,
          "nan_count": 0,
          "min": "211.0963582",
          "max": "211.2421698",
          "histogram": [
           {
            "bin_start": 211.0963582,
            "bin_end": 211.11093936,
            "count": 1
           },
           {
            "bin_start": 211.11093936,
            "bin_end": 211.12552052,
            "count": 0
           },
           {
            "bin_start": 211.12552052,
            "bin_end": 211.14010168,
            "count": 0
           },
           {
            "bin_start": 211.14010168,
            "bin_end": 211.15468284,
            "count": 0
           },
           {
            "bin_start": 211.15468284,
            "bin_end": 211.169264,
            "count": 0
           },
           {
            "bin_start": 211.169264,
            "bin_end": 211.18384516,
            "count": 0
           },
           {
            "bin_start": 211.18384516,
            "bin_end": 211.19842632,
            "count": 0
           },
           {
            "bin_start": 211.19842632,
            "bin_end": 211.21300748,
            "count": 0
           },
           {
            "bin_start": 211.21300748,
            "bin_end": 211.22758864,
            "count": 0
           },
           {
            "bin_start": 211.22758864,
            "bin_end": 211.2421698,
            "count": 1
           }
          ]
         }
        },
        {
         "name": "Unemployment",
         "dtype": "float64",
         "stats": {
          "unique_count": 1,
          "nan_count": 0,
          "min": "8.106",
          "max": "8.106",
          "histogram": [
           {
            "bin_start": 7.606,
            "bin_end": 7.7059999999999995,
            "count": 0
           },
           {
            "bin_start": 7.7059999999999995,
            "bin_end": 7.806,
            "count": 0
           },
           {
            "bin_start": 7.806,
            "bin_end": 7.906,
            "count": 0
           },
           {
            "bin_start": 7.906,
            "bin_end": 8.006,
            "count": 0
           },
           {
            "bin_start": 8.006,
            "bin_end": 8.106,
            "count": 0
           },
           {
            "bin_start": 8.106,
            "bin_end": 8.206,
            "count": 2
           },
           {
            "bin_start": 8.206,
            "bin_end": 8.306,
            "count": 0
           },
           {
            "bin_start": 8.306,
            "bin_end": 8.406,
            "count": 0
           },
           {
            "bin_start": 8.406,
            "bin_end": 8.506,
            "count": 0
           },
           {
            "bin_start": 8.506,
            "bin_end": 8.606,
            "count": 0
           }
          ]
         }
        },
        {
         "name": "IsHoliday",
         "dtype": "bool",
         "stats": {
          "unique_count": 2,
          "nan_count": 0,
          "categories": [
           {
            "name": "False",
            "count": 1
           },
           {
            "name": "True",
            "count": 1
           }
          ]
         }
        },
        {
         "name": "_deepnote_index_column",
         "dtype": "int64"
        }
       ],
       "rows": [
        {
         "Store": 1,
         "Date": "2010-02-05",
         "Temperature": 42.31,
         "Fuel_Price": 2.572,
         "MarkDown1": "nan",
         "MarkDown2": "nan",
         "MarkDown3": "nan",
         "MarkDown4": "nan",
         "MarkDown5": "nan",
         "CPI": 211.0963582,
         "Unemployment": 8.106,
         "IsHoliday": false,
         "_deepnote_index_column": 0
        },
        {
         "Store": 1,
         "Date": "2010-02-12",
         "Temperature": 38.51,
         "Fuel_Price": 2.548,
         "MarkDown1": "nan",
         "MarkDown2": "nan",
         "MarkDown3": "nan",
         "MarkDown4": "nan",
         "MarkDown5": "nan",
         "CPI": 211.2421698,
         "Unemployment": 8.106,
         "IsHoliday": true,
         "_deepnote_index_column": 1
        }
       ]
      },
      "text/plain": "   Store        Date  Temperature  Fuel_Price  MarkDown1  MarkDown2  \\\n0      1  2010-02-05        42.31       2.572        NaN        NaN   \n1      1  2010-02-12        38.51       2.548        NaN        NaN   \n\n   MarkDown3  MarkDown4  MarkDown5         CPI  Unemployment  IsHoliday  \n0        NaN        NaN        NaN  211.096358         8.106      False  \n1        NaN        NaN        NaN  211.242170         8.106       True  ",
      "text/html": "<div>\n<style scoped>\n    .dataframe tbody tr th:only-of-type {\n        vertical-align: middle;\n    }\n\n    .dataframe tbody tr th {\n        vertical-align: top;\n    }\n\n    .dataframe thead th {\n        text-align: right;\n    }\n</style>\n<table border=\"1\" class=\"dataframe\">\n  <thead>\n    <tr style=\"text-align: right;\">\n      <th></th>\n      <th>Store</th>\n      <th>Date</th>\n      <th>Temperature</th>\n      <th>Fuel_Price</th>\n      <th>MarkDown1</th>\n      <th>MarkDown2</th>\n      <th>MarkDown3</th>\n      <th>MarkDown4</th>\n      <th>MarkDown5</th>\n      <th>CPI</th>\n      <th>Unemployment</th>\n      <th>IsHoliday</th>\n    </tr>\n  </thead>\n  <tbody>\n    <tr>\n      <th>0</th>\n      <td>1</td>\n      <td>2010-02-05</td>\n      <td>42.31</td>\n      <td>2.572</td>\n      <td>NaN</td>\n      <td>NaN</td>\n      <td>NaN</td>\n      <td>NaN</td>\n      <td>NaN</td>\n      <td>211.096358</td>\n      <td>8.106</td>\n      <td>False</td>\n    </tr>\n    <tr>\n      <th>1</th>\n      <td>1</td>\n      <td>2010-02-12</td>\n      <td>38.51</td>\n      <td>2.548</td>\n      <td>NaN</td>\n      <td>NaN</td>\n      <td>NaN</td>\n      <td>NaN</td>\n      <td>NaN</td>\n      <td>211.242170</td>\n      <td>8.106</td>\n      <td>True</td>\n    </tr>\n  </tbody>\n</table>\n</div>"
     },
     "metadata": {}
    }
   ],
   "execution_count": null
  },
  {
   "cell_type": "code",
   "metadata": {
    "tags": [],
    "deepnote_to_be_reexecuted": false,
    "source_hash": "dacdd412",
    "execution_start": 1655767472851,
    "execution_millis": 2,
    "cell_id": "00008-a2e04e37-7856-40f4-8873-6055c07b067a",
    "deepnote_cell_type": "code",
    "deepnote_cell_height": 290
   },
   "source": "stores = pd.read_csv(root.joinpath('data','stores.csv'))\nstores.head(2)",
   "outputs": [
    {
     "output_type": "execute_result",
     "execution_count": 6,
     "data": {
      "application/vnd.deepnote.dataframe.v3+json": {
       "column_count": 3,
       "row_count": 2,
       "columns": [
        {
         "name": "Store",
         "dtype": "int64",
         "stats": {
          "unique_count": 2,
          "nan_count": 0,
          "min": "1",
          "max": "2",
          "histogram": [
           {
            "bin_start": 1,
            "bin_end": 1.1,
            "count": 1
           },
           {
            "bin_start": 1.1,
            "bin_end": 1.2,
            "count": 0
           },
           {
            "bin_start": 1.2,
            "bin_end": 1.3,
            "count": 0
           },
           {
            "bin_start": 1.3,
            "bin_end": 1.4,
            "count": 0
           },
           {
            "bin_start": 1.4,
            "bin_end": 1.5,
            "count": 0
           },
           {
            "bin_start": 1.5,
            "bin_end": 1.6,
            "count": 0
           },
           {
            "bin_start": 1.6,
            "bin_end": 1.7000000000000002,
            "count": 0
           },
           {
            "bin_start": 1.7000000000000002,
            "bin_end": 1.8,
            "count": 0
           },
           {
            "bin_start": 1.8,
            "bin_end": 1.9,
            "count": 0
           },
           {
            "bin_start": 1.9,
            "bin_end": 2,
            "count": 1
           }
          ]
         }
        },
        {
         "name": "Type",
         "dtype": "object",
         "stats": {
          "unique_count": 1,
          "nan_count": 0,
          "categories": [
           {
            "name": "A",
            "count": 2
           }
          ]
         }
        },
        {
         "name": "Size",
         "dtype": "int64",
         "stats": {
          "unique_count": 2,
          "nan_count": 0,
          "min": "151315",
          "max": "202307",
          "histogram": [
           {
            "bin_start": 151315,
            "bin_end": 156414.2,
            "count": 1
           },
           {
            "bin_start": 156414.2,
            "bin_end": 161513.4,
            "count": 0
           },
           {
            "bin_start": 161513.4,
            "bin_end": 166612.6,
            "count": 0
           },
           {
            "bin_start": 166612.6,
            "bin_end": 171711.8,
            "count": 0
           },
           {
            "bin_start": 171711.8,
            "bin_end": 176811,
            "count": 0
           },
           {
            "bin_start": 176811,
            "bin_end": 181910.2,
            "count": 0
           },
           {
            "bin_start": 181910.2,
            "bin_end": 187009.4,
            "count": 0
           },
           {
            "bin_start": 187009.4,
            "bin_end": 192108.6,
            "count": 0
           },
           {
            "bin_start": 192108.6,
            "bin_end": 197207.8,
            "count": 0
           },
           {
            "bin_start": 197207.8,
            "bin_end": 202307,
            "count": 1
           }
          ]
         }
        },
        {
         "name": "_deepnote_index_column",
         "dtype": "int64"
        }
       ],
       "rows": [
        {
         "Store": 1,
         "Type": "A",
         "Size": 151315,
         "_deepnote_index_column": 0
        },
        {
         "Store": 2,
         "Type": "A",
         "Size": 202307,
         "_deepnote_index_column": 1
        }
       ]
      },
      "text/plain": "   Store Type    Size\n0      1    A  151315\n1      2    A  202307",
      "text/html": "<div>\n<style scoped>\n    .dataframe tbody tr th:only-of-type {\n        vertical-align: middle;\n    }\n\n    .dataframe tbody tr th {\n        vertical-align: top;\n    }\n\n    .dataframe thead th {\n        text-align: right;\n    }\n</style>\n<table border=\"1\" class=\"dataframe\">\n  <thead>\n    <tr style=\"text-align: right;\">\n      <th></th>\n      <th>Store</th>\n      <th>Type</th>\n      <th>Size</th>\n    </tr>\n  </thead>\n  <tbody>\n    <tr>\n      <th>0</th>\n      <td>1</td>\n      <td>A</td>\n      <td>151315</td>\n    </tr>\n    <tr>\n      <th>1</th>\n      <td>2</td>\n      <td>A</td>\n      <td>202307</td>\n    </tr>\n  </tbody>\n</table>\n</div>"
     },
     "metadata": {}
    }
   ],
   "execution_count": null
  },
  {
   "cell_type": "markdown",
   "source": "## data cleaning",
   "metadata": {
    "tags": [],
    "cell_id": "00009-6c88ae81-7695-4c5c-8ea6-ae54f901a7c7",
    "deepnote_cell_type": "markdown",
    "deepnote_cell_height": 70
   }
  },
  {
   "cell_type": "code",
   "metadata": {
    "tags": [],
    "deepnote_to_be_reexecuted": false,
    "source_hash": "64e1",
    "execution_start": 1655767472851,
    "execution_millis": 45,
    "cell_id": "00010-a5eab453-cbd6-43cb-b3ee-44caf5d41e78",
    "deepnote_cell_type": "code",
    "deepnote_cell_height": 310
   },
   "source": "stores['Store'] = stores['Store'].astype('object')\nstores.info()",
   "outputs": [
    {
     "name": "stdout",
     "text": "<class 'pandas.core.frame.DataFrame'>\nRangeIndex: 45 entries, 0 to 44\nData columns (total 3 columns):\n #   Column  Non-Null Count  Dtype \n---  ------  --------------  ----- \n 0   Store   45 non-null     object\n 1   Type    45 non-null     object\n 2   Size    45 non-null     int64 \ndtypes: int64(1), object(2)\nmemory usage: 1.2+ KB\n",
     "output_type": "stream"
    }
   ],
   "execution_count": null
  },
  {
   "cell_type": "code",
   "metadata": {
    "tags": [],
    "deepnote_to_be_reexecuted": false,
    "source_hash": "bad8eabb",
    "execution_start": 1655767472895,
    "execution_millis": 708,
    "cell_id": "00011-39968c7d-67f8-4201-acd7-ce07aa478374",
    "deepnote_cell_type": "code",
    "deepnote_cell_height": 508
   },
   "source": "features['Store'] = features['Store'].astype('object')\nfeatures['Date'] = features['Date'].apply(pd.to_datetime)\nfeatures.info()",
   "outputs": [
    {
     "name": "stdout",
     "text": "<class 'pandas.core.frame.DataFrame'>\nRangeIndex: 8190 entries, 0 to 8189\nData columns (total 12 columns):\n #   Column        Non-Null Count  Dtype         \n---  ------        --------------  -----         \n 0   Store         8190 non-null   object        \n 1   Date          8190 non-null   datetime64[ns]\n 2   Temperature   8190 non-null   float64       \n 3   Fuel_Price    8190 non-null   float64       \n 4   MarkDown1     4032 non-null   float64       \n 5   MarkDown2     2921 non-null   float64       \n 6   MarkDown3     3613 non-null   float64       \n 7   MarkDown4     3464 non-null   float64       \n 8   MarkDown5     4050 non-null   float64       \n 9   CPI           7605 non-null   float64       \n 10  Unemployment  7605 non-null   float64       \n 11  IsHoliday     8190 non-null   bool          \ndtypes: bool(1), datetime64[ns](1), float64(9), object(1)\nmemory usage: 712.0+ KB\n",
     "output_type": "stream"
    }
   ],
   "execution_count": null
  },
  {
   "cell_type": "code",
   "metadata": {
    "tags": [],
    "deepnote_to_be_reexecuted": false,
    "source_hash": "3e9f7cbe",
    "execution_start": 1655767473608,
    "execution_millis": 1235,
    "cell_id": "00012-7a5a88c7-c411-4f64-b958-2f60b73f3409",
    "deepnote_cell_type": "code",
    "deepnote_cell_height": 652
   },
   "source": "features_filter = features.copy(deep=True)\n\nfilter_null = features_filter.apply(lambda row : False if row.isnull().sum() >= 5 else True,axis=1)\n#filter the rows with more or 5 null values\nfeatures_filter = features_filter[filter_null]\n\nfor column in ['MarkDown1','MarkDown2','MarkDown3','MarkDown4','MarkDown5','CPI','Unemployment']:\n    mean_value = features_filter[column].mean()\n    features_filter[column] = features_filter[column].fillna(mean_value)\n\nfeatures_filter.info()",
   "outputs": [
    {
     "name": "stdout",
     "text": "<class 'pandas.core.frame.DataFrame'>\nInt64Index: 4022 entries, 92 to 8189\nData columns (total 12 columns):\n #   Column        Non-Null Count  Dtype         \n---  ------        --------------  -----         \n 0   Store         4022 non-null   object        \n 1   Date          4022 non-null   datetime64[ns]\n 2   Temperature   4022 non-null   float64       \n 3   Fuel_Price    4022 non-null   float64       \n 4   MarkDown1     4022 non-null   float64       \n 5   MarkDown2     4022 non-null   float64       \n 6   MarkDown3     4022 non-null   float64       \n 7   MarkDown4     4022 non-null   float64       \n 8   MarkDown5     4022 non-null   float64       \n 9   CPI           4022 non-null   float64       \n 10  Unemployment  4022 non-null   float64       \n 11  IsHoliday     4022 non-null   bool          \ndtypes: bool(1), datetime64[ns](1), float64(9), object(1)\nmemory usage: 381.0+ KB\n",
     "output_type": "stream"
    }
   ],
   "execution_count": null
  },
  {
   "cell_type": "code",
   "metadata": {
    "tags": [],
    "deepnote_to_be_reexecuted": false,
    "source_hash": "b6a11b6d",
    "execution_start": 1655767474850,
    "execution_millis": 47,
    "cell_id": "00013-aac5da74-d3ce-459f-a95a-9da64b8bb04e",
    "deepnote_cell_type": "code",
    "deepnote_cell_height": 580
   },
   "source": "features_filed = features.copy(deep=True)\n\nfor column in ['MarkDown1','MarkDown2','MarkDown3','MarkDown4','MarkDown5','CPI','Unemployment']:\n    mean_value = features_filed[column].mean()\n    features_filed[column] = features_filed[column].fillna(mean_value)\n\nfeatures_filed.info()",
   "outputs": [
    {
     "name": "stdout",
     "text": "<class 'pandas.core.frame.DataFrame'>\nRangeIndex: 8190 entries, 0 to 8189\nData columns (total 12 columns):\n #   Column        Non-Null Count  Dtype         \n---  ------        --------------  -----         \n 0   Store         8190 non-null   object        \n 1   Date          8190 non-null   datetime64[ns]\n 2   Temperature   8190 non-null   float64       \n 3   Fuel_Price    8190 non-null   float64       \n 4   MarkDown1     8190 non-null   float64       \n 5   MarkDown2     8190 non-null   float64       \n 6   MarkDown3     8190 non-null   float64       \n 7   MarkDown4     8190 non-null   float64       \n 8   MarkDown5     8190 non-null   float64       \n 9   CPI           8190 non-null   float64       \n 10  Unemployment  8190 non-null   float64       \n 11  IsHoliday     8190 non-null   bool          \ndtypes: bool(1), datetime64[ns](1), float64(9), object(1)\nmemory usage: 712.0+ KB\n",
     "output_type": "stream"
    }
   ],
   "execution_count": null
  },
  {
   "cell_type": "code",
   "metadata": {
    "tags": [],
    "deepnote_to_be_reexecuted": false,
    "source_hash": "f5bad381",
    "execution_start": 1655767474895,
    "execution_millis": 2,
    "cell_id": "00014-da3f8fa4-21b9-47b0-bb69-b537122a86f9",
    "deepnote_cell_type": "code",
    "deepnote_cell_height": 562
   },
   "source": "features_filed_0 = features.copy(deep=True)\n\nfor column in ['MarkDown1','MarkDown2','MarkDown3','MarkDown4','MarkDown5','CPI','Unemployment']:\n    features_filed_0[column] = features_filed_0[column].fillna(0)\n\nfeatures_filed_0.info()",
   "outputs": [
    {
     "name": "stdout",
     "text": "<class 'pandas.core.frame.DataFrame'>\nRangeIndex: 8190 entries, 0 to 8189\nData columns (total 12 columns):\n #   Column        Non-Null Count  Dtype         \n---  ------        --------------  -----         \n 0   Store         8190 non-null   object        \n 1   Date          8190 non-null   datetime64[ns]\n 2   Temperature   8190 non-null   float64       \n 3   Fuel_Price    8190 non-null   float64       \n 4   MarkDown1     8190 non-null   float64       \n 5   MarkDown2     8190 non-null   float64       \n 6   MarkDown3     8190 non-null   float64       \n 7   MarkDown4     8190 non-null   float64       \n 8   MarkDown5     8190 non-null   float64       \n 9   CPI           8190 non-null   float64       \n 10  Unemployment  8190 non-null   float64       \n 11  IsHoliday     8190 non-null   bool          \ndtypes: bool(1), datetime64[ns](1), float64(9), object(1)\nmemory usage: 712.0+ KB\n",
     "output_type": "stream"
    }
   ],
   "execution_count": null
  },
  {
   "cell_type": "code",
   "metadata": {
    "tags": [],
    "deepnote_to_be_reexecuted": false,
    "source_hash": "61080f5d",
    "execution_start": 1655767474896,
    "execution_millis": 43,
    "deepnote_table_state": {
     "pageSize": 10,
     "pageIndex": 818,
     "filters": [],
     "sortBy": []
    },
    "deepnote_table_loading": false,
    "cell_id": "00015-b47a48c9-ee37-417a-a4dc-069621b44107",
    "deepnote_cell_type": "code",
    "deepnote_cell_height": 307
   },
   "source": "df_filter = pd.merge(features_filter,stores,on='Store')\ndf_filter.head(2)",
   "outputs": [
    {
     "output_type": "execute_result",
     "execution_count": 12,
     "data": {
      "application/vnd.deepnote.dataframe.v3+json": {
       "column_count": 14,
       "row_count": 2,
       "columns": [
        {
         "name": "Store",
         "dtype": "object",
         "stats": {
          "unique_count": 1,
          "nan_count": 0,
          "categories": [
           {
            "name": "1",
            "count": 2
           }
          ]
         }
        },
        {
         "name": "Date",
         "dtype": "datetime64[ns]",
         "stats": {
          "unique_count": 2,
          "nan_count": 0,
          "min": "2011-11-11 00:00:00",
          "max": "2011-11-18 00:00:00",
          "histogram": [
           {
            "bin_start": 1320969600000000000,
            "bin_end": 1321030080000000000,
            "count": 1
           },
           {
            "bin_start": 1321030080000000000,
            "bin_end": 1321090560000000000,
            "count": 0
           },
           {
            "bin_start": 1321090560000000000,
            "bin_end": 1321151040000000000,
            "count": 0
           },
           {
            "bin_start": 1321151040000000000,
            "bin_end": 1321211520000000000,
            "count": 0
           },
           {
            "bin_start": 1321211520000000000,
            "bin_end": 1321272000000000000,
            "count": 0
           },
           {
            "bin_start": 1321272000000000000,
            "bin_end": 1321332480000000000,
            "count": 0
           },
           {
            "bin_start": 1321332480000000000,
            "bin_end": 1321392960000000000,
            "count": 0
           },
           {
            "bin_start": 1321392960000000000,
            "bin_end": 1321453440000000000,
            "count": 0
           },
           {
            "bin_start": 1321453440000000000,
            "bin_end": 1321513920000000000,
            "count": 0
           },
           {
            "bin_start": 1321513920000000000,
            "bin_end": 1321574400000000000,
            "count": 1
           }
          ]
         }
        },
        {
         "name": "Temperature",
         "dtype": "float64",
         "stats": {
          "unique_count": 2,
          "nan_count": 0,
          "min": "59.11",
          "max": "62.25",
          "histogram": [
           {
            "bin_start": 59.11,
            "bin_end": 59.424,
            "count": 1
           },
           {
            "bin_start": 59.424,
            "bin_end": 59.738,
            "count": 0
           },
           {
            "bin_start": 59.738,
            "bin_end": 60.052,
            "count": 0
           },
           {
            "bin_start": 60.052,
            "bin_end": 60.366,
            "count": 0
           },
           {
            "bin_start": 60.366,
            "bin_end": 60.68,
            "count": 0
           },
           {
            "bin_start": 60.68,
            "bin_end": 60.994,
            "count": 0
           },
           {
            "bin_start": 60.994,
            "bin_end": 61.308,
            "count": 0
           },
           {
            "bin_start": 61.308,
            "bin_end": 61.622,
            "count": 0
           },
           {
            "bin_start": 61.622,
            "bin_end": 61.936,
            "count": 0
           },
           {
            "bin_start": 61.936,
            "bin_end": 62.25,
            "count": 1
           }
          ]
         }
        },
        {
         "name": "Fuel_Price",
         "dtype": "float64",
         "stats": {
          "unique_count": 2,
          "nan_count": 0,
          "min": "3.297",
          "max": "3.308",
          "histogram": [
           {
            "bin_start": 3.297,
            "bin_end": 3.2981000000000003,
            "count": 1
           },
           {
            "bin_start": 3.2981000000000003,
            "bin_end": 3.2992,
            "count": 0
           },
           {
            "bin_start": 3.2992,
            "bin_end": 3.3003,
            "count": 0
           },
           {
            "bin_start": 3.3003,
            "bin_end": 3.3014,
            "count": 0
           },
           {
            "bin_start": 3.3014,
            "bin_end": 3.3025,
            "count": 0
           },
           {
            "bin_start": 3.3025,
            "bin_end": 3.3036,
            "count": 0
           },
           {
            "bin_start": 3.3036,
            "bin_end": 3.3047,
            "count": 0
           },
           {
            "bin_start": 3.3047,
            "bin_end": 3.3058,
            "count": 0
           },
           {
            "bin_start": 3.3058,
            "bin_end": 3.3068999999999997,
            "count": 0
           },
           {
            "bin_start": 3.3068999999999997,
            "bin_end": 3.308,
            "count": 1
           }
          ]
         }
        },
        {
         "name": "MarkDown1",
         "dtype": "float64",
         "stats": {
          "unique_count": 2,
          "nan_count": 0,
          "min": "6074.12",
          "max": "10382.9",
          "histogram": [
           {
            "bin_start": 6074.12,
            "bin_end": 6504.998,
            "count": 1
           },
           {
            "bin_start": 6504.998,
            "bin_end": 6935.876,
            "count": 0
           },
           {
            "bin_start": 6935.876,
            "bin_end": 7366.754,
            "count": 0
           },
           {
            "bin_start": 7366.754,
            "bin_end": 7797.632,
            "count": 0
           },
           {
            "bin_start": 7797.632,
            "bin_end": 8228.51,
            "count": 0
           },
           {
            "bin_start": 8228.51,
            "bin_end": 8659.387999999999,
            "count": 0
           },
           {
            "bin_start": 8659.387999999999,
            "bin_end": 9090.266,
            "count": 0
           },
           {
            "bin_start": 9090.266,
            "bin_end": 9521.144,
            "count": 0
           },
           {
            "bin_start": 9521.144,
            "bin_end": 9952.022,
            "count": 0
           },
           {
            "bin_start": 9952.022,
            "bin_end": 10382.9,
            "count": 1
           }
          ]
         }
        },
        {
         "name": "MarkDown2",
         "dtype": "float64",
         "stats": {
          "unique_count": 2,
          "nan_count": 0,
          "min": "254.39",
          "max": "6115.67",
          "histogram": [
           {
            "bin_start": 254.39,
            "bin_end": 840.5179999999999,
            "count": 1
           },
           {
            "bin_start": 840.5179999999999,
            "bin_end": 1426.6459999999997,
            "count": 0
           },
           {
            "bin_start": 1426.6459999999997,
            "bin_end": 2012.774,
            "count": 0
           },
           {
            "bin_start": 2012.774,
            "bin_end": 2598.9019999999996,
            "count": 0
           },
           {
            "bin_start": 2598.9019999999996,
            "bin_end": 3185.0299999999993,
            "count": 0
           },
           {
            "bin_start": 3185.0299999999993,
            "bin_end": 3771.1579999999994,
            "count": 0
           },
           {
            "bin_start": 3771.1579999999994,
            "bin_end": 4357.286,
            "count": 0
           },
           {
            "bin_start": 4357.286,
            "bin_end": 4943.414,
            "count": 0
           },
           {
            "bin_start": 4943.414,
            "bin_end": 5529.5419999999995,
            "count": 0
           },
           {
            "bin_start": 5529.5419999999995,
            "bin_end": 6115.67,
            "count": 1
           }
          ]
         }
        },
        {
         "name": "MarkDown3",
         "dtype": "float64",
         "stats": {
          "unique_count": 2,
          "nan_count": 0,
          "min": "51.98",
          "max": "215.07",
          "histogram": [
           {
            "bin_start": 51.98,
            "bin_end": 68.289,
            "count": 1
           },
           {
            "bin_start": 68.289,
            "bin_end": 84.598,
            "count": 0
           },
           {
            "bin_start": 84.598,
            "bin_end": 100.90700000000001,
            "count": 0
           },
           {
            "bin_start": 100.90700000000001,
            "bin_end": 117.21600000000001,
            "count": 0
           },
           {
            "bin_start": 117.21600000000001,
            "bin_end": 133.525,
            "count": 0
           },
           {
            "bin_start": 133.525,
            "bin_end": 149.834,
            "count": 0
           },
           {
            "bin_start": 149.834,
            "bin_end": 166.143,
            "count": 0
           },
           {
            "bin_start": 166.143,
            "bin_end": 182.452,
            "count": 0
           },
           {
            "bin_start": 182.452,
            "bin_end": 198.761,
            "count": 0
           },
           {
            "bin_start": 198.761,
            "bin_end": 215.07,
            "count": 1
           }
          ]
         }
        },
        {
         "name": "MarkDown4",
         "dtype": "float64",
         "stats": {
          "unique_count": 2,
          "nan_count": 0,
          "min": "427.39",
          "max": "2406.62",
          "histogram": [
           {
            "bin_start": 427.39,
            "bin_end": 625.313,
            "count": 1
           },
           {
            "bin_start": 625.313,
            "bin_end": 823.236,
            "count": 0
           },
           {
            "bin_start": 823.236,
            "bin_end": 1021.159,
            "count": 0
           },
           {
            "bin_start": 1021.159,
            "bin_end": 1219.0819999999999,
            "count": 0
           },
           {
            "bin_start": 1219.0819999999999,
            "bin_end": 1417.005,
            "count": 0
           },
           {
            "bin_start": 1417.005,
            "bin_end": 1614.9279999999999,
            "count": 0
           },
           {
            "bin_start": 1614.9279999999999,
            "bin_end": 1812.851,
            "count": 0
           },
           {
            "bin_start": 1812.851,
            "bin_end": 2010.774,
            "count": 0
           },
           {
            "bin_start": 2010.774,
            "bin_end": 2208.697,
            "count": 0
           },
           {
            "bin_start": 2208.697,
            "bin_end": 2406.62,
            "count": 1
           }
          ]
         }
        },
        {
         "name": "MarkDown5",
         "dtype": "float64",
         "stats": {
          "unique_count": 2,
          "nan_count": 0,
          "min": "5988.57",
          "max": "6551.42",
          "histogram": [
           {
            "bin_start": 5988.57,
            "bin_end": 6044.855,
            "count": 1
           },
           {
            "bin_start": 6044.855,
            "bin_end": 6101.139999999999,
            "count": 0
           },
           {
            "bin_start": 6101.139999999999,
            "bin_end": 6157.425,
            "count": 0
           },
           {
            "bin_start": 6157.425,
            "bin_end": 6213.71,
            "count": 0
           },
           {
            "bin_start": 6213.71,
            "bin_end": 6269.995,
            "count": 0
           },
           {
            "bin_start": 6269.995,
            "bin_end": 6326.28,
            "count": 0
           },
           {
            "bin_start": 6326.28,
            "bin_end": 6382.565,
            "count": 0
           },
           {
            "bin_start": 6382.565,
            "bin_end": 6438.85,
            "count": 0
           },
           {
            "bin_start": 6438.85,
            "bin_end": 6495.135,
            "count": 0
           },
           {
            "bin_start": 6495.135,
            "bin_end": 6551.42,
            "count": 1
           }
          ]
         }
        },
        {
         "name": "CPI",
         "dtype": "float64",
         "stats": {
          "unique_count": 2,
          "nan_count": 0,
          "min": "217.9980849",
          "max": "218.2205088",
          "histogram": [
           {
            "bin_start": 217.9980849,
            "bin_end": 218.02032729,
            "count": 1
           },
           {
            "bin_start": 218.02032729,
            "bin_end": 218.04256968,
            "count": 0
           },
           {
            "bin_start": 218.04256968,
            "bin_end": 218.06481207000002,
            "count": 0
           },
           {
            "bin_start": 218.06481207000002,
            "bin_end": 218.08705446000002,
            "count": 0
           },
           {
            "bin_start": 218.08705446000002,
            "bin_end": 218.10929685000002,
            "count": 0
           },
           {
            "bin_start": 218.10929685000002,
            "bin_end": 218.13153924,
            "count": 0
           },
           {
            "bin_start": 218.13153924,
            "bin_end": 218.15378163,
            "count": 0
           },
           {
            "bin_start": 218.15378163,
            "bin_end": 218.17602402,
            "count": 0
           },
           {
            "bin_start": 218.17602402,
            "bin_end": 218.19826641,
            "count": 0
           },
           {
            "bin_start": 218.19826641,
            "bin_end": 218.2205088,
            "count": 1
           }
          ]
         }
        },
        {
         "name": "Unemployment",
         "dtype": "float64",
         "stats": {
          "unique_count": 1,
          "nan_count": 0,
          "min": "7.866",
          "max": "7.866",
          "histogram": [
           {
            "bin_start": 7.366,
            "bin_end": 7.465999999999999,
            "count": 0
           },
           {
            "bin_start": 7.465999999999999,
            "bin_end": 7.566,
            "count": 0
           },
           {
            "bin_start": 7.566,
            "bin_end": 7.6659999999999995,
            "count": 0
           },
           {
            "bin_start": 7.6659999999999995,
            "bin_end": 7.766,
            "count": 0
           },
           {
            "bin_start": 7.766,
            "bin_end": 7.866,
            "count": 0
           },
           {
            "bin_start": 7.866,
            "bin_end": 7.965999999999999,
            "count": 2
           },
           {
            "bin_start": 7.965999999999999,
            "bin_end": 8.065999999999999,
            "count": 0
           },
           {
            "bin_start": 8.065999999999999,
            "bin_end": 8.166,
            "count": 0
           },
           {
            "bin_start": 8.166,
            "bin_end": 8.266,
            "count": 0
           },
           {
            "bin_start": 8.266,
            "bin_end": 8.366,
            "count": 0
           }
          ]
         }
        },
        {
         "name": "IsHoliday",
         "dtype": "bool",
         "stats": {
          "unique_count": 1,
          "nan_count": 0,
          "categories": [
           {
            "name": "False",
            "count": 2
           }
          ]
         }
        },
        {
         "name": "Type",
         "dtype": "object",
         "stats": {
          "unique_count": 1,
          "nan_count": 0,
          "categories": [
           {
            "name": "A",
            "count": 2
           }
          ]
         }
        },
        {
         "name": "Size",
         "dtype": "int64",
         "stats": {
          "unique_count": 1,
          "nan_count": 0,
          "min": "151315",
          "max": "151315",
          "histogram": [
           {
            "bin_start": 151314.5,
            "bin_end": 151314.6,
            "count": 0
           },
           {
            "bin_start": 151314.6,
            "bin_end": 151314.7,
            "count": 0
           },
           {
            "bin_start": 151314.7,
            "bin_end": 151314.8,
            "count": 0
           },
           {
            "bin_start": 151314.8,
            "bin_end": 151314.9,
            "count": 0
           },
           {
            "bin_start": 151314.9,
            "bin_end": 151315,
            "count": 0
           },
           {
            "bin_start": 151315,
            "bin_end": 151315.1,
            "count": 2
           },
           {
            "bin_start": 151315.1,
            "bin_end": 151315.2,
            "count": 0
           },
           {
            "bin_start": 151315.2,
            "bin_end": 151315.3,
            "count": 0
           },
           {
            "bin_start": 151315.3,
            "bin_end": 151315.4,
            "count": 0
           },
           {
            "bin_start": 151315.4,
            "bin_end": 151315.5,
            "count": 0
           }
          ]
         }
        },
        {
         "name": "_deepnote_index_column",
         "dtype": "int64"
        }
       ],
       "rows": [
        {
         "Store": "1",
         "Date": "2011-11-11T00:00:00.000000",
         "Temperature": 59.11,
         "Fuel_Price": 3.297,
         "MarkDown1": 10382.9,
         "MarkDown2": 6115.67,
         "MarkDown3": 215.07,
         "MarkDown4": 2406.62,
         "MarkDown5": 6551.42,
         "CPI": 217.9980849,
         "Unemployment": 7.866,
         "IsHoliday": false,
         "Type": "A",
         "Size": 151315,
         "_deepnote_index_column": 0
        },
        {
         "Store": "1",
         "Date": "2011-11-18T00:00:00.000000",
         "Temperature": 62.25,
         "Fuel_Price": 3.308,
         "MarkDown1": 6074.12,
         "MarkDown2": 254.39,
         "MarkDown3": 51.98,
         "MarkDown4": 427.39,
         "MarkDown5": 5988.57,
         "CPI": 218.2205088,
         "Unemployment": 7.866,
         "IsHoliday": false,
         "Type": "A",
         "Size": 151315,
         "_deepnote_index_column": 1
        }
       ]
      },
      "text/plain": "  Store       Date  Temperature  Fuel_Price  MarkDown1  MarkDown2  MarkDown3  \\\n0     1 2011-11-11        59.11       3.297   10382.90    6115.67     215.07   \n1     1 2011-11-18        62.25       3.308    6074.12     254.39      51.98   \n\n   MarkDown4  MarkDown5         CPI  Unemployment  IsHoliday Type    Size  \n0    2406.62    6551.42  217.998085         7.866      False    A  151315  \n1     427.39    5988.57  218.220509         7.866      False    A  151315  ",
      "text/html": "<div>\n<style scoped>\n    .dataframe tbody tr th:only-of-type {\n        vertical-align: middle;\n    }\n\n    .dataframe tbody tr th {\n        vertical-align: top;\n    }\n\n    .dataframe thead th {\n        text-align: right;\n    }\n</style>\n<table border=\"1\" class=\"dataframe\">\n  <thead>\n    <tr style=\"text-align: right;\">\n      <th></th>\n      <th>Store</th>\n      <th>Date</th>\n      <th>Temperature</th>\n      <th>Fuel_Price</th>\n      <th>MarkDown1</th>\n      <th>MarkDown2</th>\n      <th>MarkDown3</th>\n      <th>MarkDown4</th>\n      <th>MarkDown5</th>\n      <th>CPI</th>\n      <th>Unemployment</th>\n      <th>IsHoliday</th>\n      <th>Type</th>\n      <th>Size</th>\n    </tr>\n  </thead>\n  <tbody>\n    <tr>\n      <th>0</th>\n      <td>1</td>\n      <td>2011-11-11</td>\n      <td>59.11</td>\n      <td>3.297</td>\n      <td>10382.90</td>\n      <td>6115.67</td>\n      <td>215.07</td>\n      <td>2406.62</td>\n      <td>6551.42</td>\n      <td>217.998085</td>\n      <td>7.866</td>\n      <td>False</td>\n      <td>A</td>\n      <td>151315</td>\n    </tr>\n    <tr>\n      <th>1</th>\n      <td>1</td>\n      <td>2011-11-18</td>\n      <td>62.25</td>\n      <td>3.308</td>\n      <td>6074.12</td>\n      <td>254.39</td>\n      <td>51.98</td>\n      <td>427.39</td>\n      <td>5988.57</td>\n      <td>218.220509</td>\n      <td>7.866</td>\n      <td>False</td>\n      <td>A</td>\n      <td>151315</td>\n    </tr>\n  </tbody>\n</table>\n</div>"
     },
     "metadata": {}
    }
   ],
   "execution_count": null
  },
  {
   "cell_type": "code",
   "metadata": {
    "tags": [],
    "deepnote_to_be_reexecuted": false,
    "source_hash": "16ccc6f4",
    "execution_start": 1655767474947,
    "execution_millis": 101,
    "cell_id": "00016-8fcd39b6-3932-4f04-8017-1c0d5b5a77b9",
    "deepnote_cell_type": "code",
    "deepnote_cell_height": 306.796875
   },
   "source": "df_filed = pd.merge(features_filed,stores,on='Store')\ndf_filed.head(2)",
   "outputs": [
    {
     "output_type": "execute_result",
     "execution_count": 13,
     "data": {
      "application/vnd.deepnote.dataframe.v3+json": {
       "column_count": 14,
       "row_count": 2,
       "columns": [
        {
         "name": "Store",
         "dtype": "object",
         "stats": {
          "unique_count": 1,
          "nan_count": 0,
          "categories": [
           {
            "name": "1",
            "count": 2
           }
          ]
         }
        },
        {
         "name": "Date",
         "dtype": "datetime64[ns]",
         "stats": {
          "unique_count": 2,
          "nan_count": 0,
          "min": "2010-02-05 00:00:00",
          "max": "2010-02-12 00:00:00",
          "histogram": [
           {
            "bin_start": 1265328000000000000,
            "bin_end": 1265388480000000000,
            "count": 1
           },
           {
            "bin_start": 1265388480000000000,
            "bin_end": 1265448960000000000,
            "count": 0
           },
           {
            "bin_start": 1265448960000000000,
            "bin_end": 1265509440000000000,
            "count": 0
           },
           {
            "bin_start": 1265509440000000000,
            "bin_end": 1265569920000000000,
            "count": 0
           },
           {
            "bin_start": 1265569920000000000,
            "bin_end": 1265630400000000000,
            "count": 0
           },
           {
            "bin_start": 1265630400000000000,
            "bin_end": 1265690880000000000,
            "count": 0
           },
           {
            "bin_start": 1265690880000000000,
            "bin_end": 1265751360000000000,
            "count": 0
           },
           {
            "bin_start": 1265751360000000000,
            "bin_end": 1265811840000000000,
            "count": 0
           },
           {
            "bin_start": 1265811840000000000,
            "bin_end": 1265872320000000000,
            "count": 0
           },
           {
            "bin_start": 1265872320000000000,
            "bin_end": 1265932800000000000,
            "count": 1
           }
          ]
         }
        },
        {
         "name": "Temperature",
         "dtype": "float64",
         "stats": {
          "unique_count": 2,
          "nan_count": 0,
          "min": "38.51",
          "max": "42.31",
          "histogram": [
           {
            "bin_start": 38.51,
            "bin_end": 38.89,
            "count": 1
           },
           {
            "bin_start": 38.89,
            "bin_end": 39.269999999999996,
            "count": 0
           },
           {
            "bin_start": 39.269999999999996,
            "bin_end": 39.65,
            "count": 0
           },
           {
            "bin_start": 39.65,
            "bin_end": 40.03,
            "count": 0
           },
           {
            "bin_start": 40.03,
            "bin_end": 40.41,
            "count": 0
           },
           {
            "bin_start": 40.41,
            "bin_end": 40.79,
            "count": 0
           },
           {
            "bin_start": 40.79,
            "bin_end": 41.17,
            "count": 0
           },
           {
            "bin_start": 41.17,
            "bin_end": 41.550000000000004,
            "count": 0
           },
           {
            "bin_start": 41.550000000000004,
            "bin_end": 41.93,
            "count": 0
           },
           {
            "bin_start": 41.93,
            "bin_end": 42.31,
            "count": 1
           }
          ]
         }
        },
        {
         "name": "Fuel_Price",
         "dtype": "float64",
         "stats": {
          "unique_count": 2,
          "nan_count": 0,
          "min": "2.548",
          "max": "2.572",
          "histogram": [
           {
            "bin_start": 2.548,
            "bin_end": 2.5504000000000002,
            "count": 1
           },
           {
            "bin_start": 2.5504000000000002,
            "bin_end": 2.5528,
            "count": 0
           },
           {
            "bin_start": 2.5528,
            "bin_end": 2.5552,
            "count": 0
           },
           {
            "bin_start": 2.5552,
            "bin_end": 2.5576,
            "count": 0
           },
           {
            "bin_start": 2.5576,
            "bin_end": 2.56,
            "count": 0
           },
           {
            "bin_start": 2.56,
            "bin_end": 2.5624000000000002,
            "count": 0
           },
           {
            "bin_start": 2.5624000000000002,
            "bin_end": 2.5648,
            "count": 0
           },
           {
            "bin_start": 2.5648,
            "bin_end": 2.5672,
            "count": 0
           },
           {
            "bin_start": 2.5672,
            "bin_end": 2.5696,
            "count": 0
           },
           {
            "bin_start": 2.5696,
            "bin_end": 2.572,
            "count": 1
           }
          ]
         }
        },
        {
         "name": "MarkDown1",
         "dtype": "float64",
         "stats": {
          "unique_count": 1,
          "nan_count": 0,
          "min": "7032.371785714286",
          "max": "7032.371785714286",
          "histogram": [
           {
            "bin_start": 7031.871785714286,
            "bin_end": 7031.971785714286,
            "count": 0
           },
           {
            "bin_start": 7031.971785714286,
            "bin_end": 7032.071785714285,
            "count": 0
           },
           {
            "bin_start": 7032.071785714285,
            "bin_end": 7032.171785714286,
            "count": 0
           },
           {
            "bin_start": 7032.171785714286,
            "bin_end": 7032.271785714285,
            "count": 0
           },
           {
            "bin_start": 7032.271785714285,
            "bin_end": 7032.371785714286,
            "count": 0
           },
           {
            "bin_start": 7032.371785714286,
            "bin_end": 7032.471785714286,
            "count": 2
           },
           {
            "bin_start": 7032.471785714286,
            "bin_end": 7032.571785714285,
            "count": 0
           },
           {
            "bin_start": 7032.571785714285,
            "bin_end": 7032.671785714286,
            "count": 0
           },
           {
            "bin_start": 7032.671785714286,
            "bin_end": 7032.771785714285,
            "count": 0
           },
           {
            "bin_start": 7032.771785714285,
            "bin_end": 7032.871785714286,
            "count": 0
           }
          ]
         }
        },
        {
         "name": "MarkDown2",
         "dtype": "float64",
         "stats": {
          "unique_count": 1,
          "nan_count": 0,
          "min": "3384.1765936323177",
          "max": "3384.1765936323177",
          "histogram": [
           {
            "bin_start": 3383.6765936323177,
            "bin_end": 3383.7765936323176,
            "count": 0
           },
           {
            "bin_start": 3383.7765936323176,
            "bin_end": 3383.8765936323175,
            "count": 0
           },
           {
            "bin_start": 3383.8765936323175,
            "bin_end": 3383.976593632318,
            "count": 0
           },
           {
            "bin_start": 3383.976593632318,
            "bin_end": 3384.076593632318,
            "count": 0
           },
           {
            "bin_start": 3384.076593632318,
            "bin_end": 3384.1765936323177,
            "count": 0
           },
           {
            "bin_start": 3384.1765936323177,
            "bin_end": 3384.2765936323176,
            "count": 2
           },
           {
            "bin_start": 3384.2765936323176,
            "bin_end": 3384.3765936323175,
            "count": 0
           },
           {
            "bin_start": 3384.3765936323175,
            "bin_end": 3384.476593632318,
            "count": 0
           },
           {
            "bin_start": 3384.476593632318,
            "bin_end": 3384.576593632318,
            "count": 0
           },
           {
            "bin_start": 3384.576593632318,
            "bin_end": 3384.6765936323177,
            "count": 0
           }
          ]
         }
        },
        {
         "name": "MarkDown3",
         "dtype": "float64",
         "stats": {
          "unique_count": 1,
          "nan_count": 0,
          "min": "1760.1001799058954",
          "max": "1760.1001799058954",
          "histogram": [
           {
            "bin_start": 1759.6001799058954,
            "bin_end": 1759.7001799058953,
            "count": 0
           },
           {
            "bin_start": 1759.7001799058953,
            "bin_end": 1759.8001799058954,
            "count": 0
           },
           {
            "bin_start": 1759.8001799058954,
            "bin_end": 1759.9001799058954,
            "count": 0
           },
           {
            "bin_start": 1759.9001799058954,
            "bin_end": 1760.0001799058955,
            "count": 0
           },
           {
            "bin_start": 1760.0001799058955,
            "bin_end": 1760.1001799058954,
            "count": 0
           },
           {
            "bin_start": 1760.1001799058954,
            "bin_end": 1760.2001799058953,
            "count": 2
           },
           {
            "bin_start": 1760.2001799058953,
            "bin_end": 1760.3001799058954,
            "count": 0
           },
           {
            "bin_start": 1760.3001799058954,
            "bin_end": 1760.4001799058954,
            "count": 0
           },
           {
            "bin_start": 1760.4001799058954,
            "bin_end": 1760.5001799058955,
            "count": 0
           },
           {
            "bin_start": 1760.5001799058955,
            "bin_end": 1760.6001799058954,
            "count": 0
           }
          ]
         }
        },
        {
         "name": "MarkDown4",
         "dtype": "float64",
         "stats": {
          "unique_count": 1,
          "nan_count": 0,
          "min": "3292.9358862586605",
          "max": "3292.9358862586605",
          "histogram": [
           {
            "bin_start": 3292.4358862586605,
            "bin_end": 3292.5358862586604,
            "count": 0
           },
           {
            "bin_start": 3292.5358862586604,
            "bin_end": 3292.6358862586603,
            "count": 0
           },
           {
            "bin_start": 3292.6358862586603,
            "bin_end": 3292.7358862586607,
            "count": 0
           },
           {
            "bin_start": 3292.7358862586607,
            "bin_end": 3292.8358862586606,
            "count": 0
           },
           {
            "bin_start": 3292.8358862586606,
            "bin_end": 3292.9358862586605,
            "count": 0
           },
           {
            "bin_start": 3292.9358862586605,
            "bin_end": 3293.0358862586604,
            "count": 2
           },
           {
            "bin_start": 3293.0358862586604,
            "bin_end": 3293.1358862586603,
            "count": 0
           },
           {
            "bin_start": 3293.1358862586603,
            "bin_end": 3293.2358862586607,
            "count": 0
           },
           {
            "bin_start": 3293.2358862586607,
            "bin_end": 3293.3358862586606,
            "count": 0
           },
           {
            "bin_start": 3293.3358862586606,
            "bin_end": 3293.4358862586605,
            "count": 0
           }
          ]
         }
        },
        {
         "name": "MarkDown5",
         "dtype": "float64",
         "stats": {
          "unique_count": 1,
          "nan_count": 0,
          "min": "4132.216422222222",
          "max": "4132.216422222222",
          "histogram": [
           {
            "bin_start": 4131.716422222222,
            "bin_end": 4131.816422222222,
            "count": 0
           },
           {
            "bin_start": 4131.816422222222,
            "bin_end": 4131.916422222222,
            "count": 0
           },
           {
            "bin_start": 4131.916422222222,
            "bin_end": 4132.016422222222,
            "count": 0
           },
           {
            "bin_start": 4132.016422222222,
            "bin_end": 4132.116422222221,
            "count": 0
           },
           {
            "bin_start": 4132.116422222221,
            "bin_end": 4132.216422222222,
            "count": 0
           },
           {
            "bin_start": 4132.216422222222,
            "bin_end": 4132.316422222222,
            "count": 2
           },
           {
            "bin_start": 4132.316422222222,
            "bin_end": 4132.416422222222,
            "count": 0
           },
           {
            "bin_start": 4132.416422222222,
            "bin_end": 4132.516422222222,
            "count": 0
           },
           {
            "bin_start": 4132.516422222222,
            "bin_end": 4132.616422222221,
            "count": 0
           },
           {
            "bin_start": 4132.616422222221,
            "bin_end": 4132.716422222222,
            "count": 0
           }
          ]
         }
        },
        {
         "name": "CPI",
         "dtype": "float64",
         "stats": {
          "unique_count": 2,
          "nan_count": 0,
          "min": "211.0963582",
          "max": "211.2421698",
          "histogram": [
           {
            "bin_start": 211.0963582,
            "bin_end": 211.11093936,
            "count": 1
           },
           {
            "bin_start": 211.11093936,
            "bin_end": 211.12552052,
            "count": 0
           },
           {
            "bin_start": 211.12552052,
            "bin_end": 211.14010168,
            "count": 0
           },
           {
            "bin_start": 211.14010168,
            "bin_end": 211.15468284,
            "count": 0
           },
           {
            "bin_start": 211.15468284,
            "bin_end": 211.169264,
            "count": 0
           },
           {
            "bin_start": 211.169264,
            "bin_end": 211.18384516,
            "count": 0
           },
           {
            "bin_start": 211.18384516,
            "bin_end": 211.19842632,
            "count": 0
           },
           {
            "bin_start": 211.19842632,
            "bin_end": 211.21300748,
            "count": 0
           },
           {
            "bin_start": 211.21300748,
            "bin_end": 211.22758864,
            "count": 0
           },
           {
            "bin_start": 211.22758864,
            "bin_end": 211.2421698,
            "count": 1
           }
          ]
         }
        },
        {
         "name": "Unemployment",
         "dtype": "float64",
         "stats": {
          "unique_count": 1,
          "nan_count": 0,
          "min": "8.106",
          "max": "8.106",
          "histogram": [
           {
            "bin_start": 7.606,
            "bin_end": 7.7059999999999995,
            "count": 0
           },
           {
            "bin_start": 7.7059999999999995,
            "bin_end": 7.806,
            "count": 0
           },
           {
            "bin_start": 7.806,
            "bin_end": 7.906,
            "count": 0
           },
           {
            "bin_start": 7.906,
            "bin_end": 8.006,
            "count": 0
           },
           {
            "bin_start": 8.006,
            "bin_end": 8.106,
            "count": 0
           },
           {
            "bin_start": 8.106,
            "bin_end": 8.206,
            "count": 2
           },
           {
            "bin_start": 8.206,
            "bin_end": 8.306,
            "count": 0
           },
           {
            "bin_start": 8.306,
            "bin_end": 8.406,
            "count": 0
           },
           {
            "bin_start": 8.406,
            "bin_end": 8.506,
            "count": 0
           },
           {
            "bin_start": 8.506,
            "bin_end": 8.606,
            "count": 0
           }
          ]
         }
        },
        {
         "name": "IsHoliday",
         "dtype": "bool",
         "stats": {
          "unique_count": 2,
          "nan_count": 0,
          "categories": [
           {
            "name": "False",
            "count": 1
           },
           {
            "name": "True",
            "count": 1
           }
          ]
         }
        },
        {
         "name": "Type",
         "dtype": "object",
         "stats": {
          "unique_count": 1,
          "nan_count": 0,
          "categories": [
           {
            "name": "A",
            "count": 2
           }
          ]
         }
        },
        {
         "name": "Size",
         "dtype": "int64",
         "stats": {
          "unique_count": 1,
          "nan_count": 0,
          "min": "151315",
          "max": "151315",
          "histogram": [
           {
            "bin_start": 151314.5,
            "bin_end": 151314.6,
            "count": 0
           },
           {
            "bin_start": 151314.6,
            "bin_end": 151314.7,
            "count": 0
           },
           {
            "bin_start": 151314.7,
            "bin_end": 151314.8,
            "count": 0
           },
           {
            "bin_start": 151314.8,
            "bin_end": 151314.9,
            "count": 0
           },
           {
            "bin_start": 151314.9,
            "bin_end": 151315,
            "count": 0
           },
           {
            "bin_start": 151315,
            "bin_end": 151315.1,
            "count": 2
           },
           {
            "bin_start": 151315.1,
            "bin_end": 151315.2,
            "count": 0
           },
           {
            "bin_start": 151315.2,
            "bin_end": 151315.3,
            "count": 0
           },
           {
            "bin_start": 151315.3,
            "bin_end": 151315.4,
            "count": 0
           },
           {
            "bin_start": 151315.4,
            "bin_end": 151315.5,
            "count": 0
           }
          ]
         }
        },
        {
         "name": "_deepnote_index_column",
         "dtype": "int64"
        }
       ],
       "rows": [
        {
         "Store": "1",
         "Date": "2010-02-05T00:00:00.000000",
         "Temperature": 42.31,
         "Fuel_Price": 2.572,
         "MarkDown1": 7032.371785714286,
         "MarkDown2": 3384.1765936323177,
         "MarkDown3": 1760.1001799058954,
         "MarkDown4": 3292.9358862586605,
         "MarkDown5": 4132.216422222222,
         "CPI": 211.0963582,
         "Unemployment": 8.106,
         "IsHoliday": false,
         "Type": "A",
         "Size": 151315,
         "_deepnote_index_column": 0
        },
        {
         "Store": "1",
         "Date": "2010-02-12T00:00:00.000000",
         "Temperature": 38.51,
         "Fuel_Price": 2.548,
         "MarkDown1": 7032.371785714286,
         "MarkDown2": 3384.1765936323177,
         "MarkDown3": 1760.1001799058954,
         "MarkDown4": 3292.9358862586605,
         "MarkDown5": 4132.216422222222,
         "CPI": 211.2421698,
         "Unemployment": 8.106,
         "IsHoliday": true,
         "Type": "A",
         "Size": 151315,
         "_deepnote_index_column": 1
        }
       ]
      },
      "text/plain": "  Store       Date  Temperature  Fuel_Price    MarkDown1    MarkDown2  \\\n0     1 2010-02-05        42.31       2.572  7032.371786  3384.176594   \n1     1 2010-02-12        38.51       2.548  7032.371786  3384.176594   \n\n    MarkDown3    MarkDown4    MarkDown5         CPI  Unemployment  IsHoliday  \\\n0  1760.10018  3292.935886  4132.216422  211.096358         8.106      False   \n1  1760.10018  3292.935886  4132.216422  211.242170         8.106       True   \n\n  Type    Size  \n0    A  151315  \n1    A  151315  ",
      "text/html": "<div>\n<style scoped>\n    .dataframe tbody tr th:only-of-type {\n        vertical-align: middle;\n    }\n\n    .dataframe tbody tr th {\n        vertical-align: top;\n    }\n\n    .dataframe thead th {\n        text-align: right;\n    }\n</style>\n<table border=\"1\" class=\"dataframe\">\n  <thead>\n    <tr style=\"text-align: right;\">\n      <th></th>\n      <th>Store</th>\n      <th>Date</th>\n      <th>Temperature</th>\n      <th>Fuel_Price</th>\n      <th>MarkDown1</th>\n      <th>MarkDown2</th>\n      <th>MarkDown3</th>\n      <th>MarkDown4</th>\n      <th>MarkDown5</th>\n      <th>CPI</th>\n      <th>Unemployment</th>\n      <th>IsHoliday</th>\n      <th>Type</th>\n      <th>Size</th>\n    </tr>\n  </thead>\n  <tbody>\n    <tr>\n      <th>0</th>\n      <td>1</td>\n      <td>2010-02-05</td>\n      <td>42.31</td>\n      <td>2.572</td>\n      <td>7032.371786</td>\n      <td>3384.176594</td>\n      <td>1760.10018</td>\n      <td>3292.935886</td>\n      <td>4132.216422</td>\n      <td>211.096358</td>\n      <td>8.106</td>\n      <td>False</td>\n      <td>A</td>\n      <td>151315</td>\n    </tr>\n    <tr>\n      <th>1</th>\n      <td>1</td>\n      <td>2010-02-12</td>\n      <td>38.51</td>\n      <td>2.548</td>\n      <td>7032.371786</td>\n      <td>3384.176594</td>\n      <td>1760.10018</td>\n      <td>3292.935886</td>\n      <td>4132.216422</td>\n      <td>211.242170</td>\n      <td>8.106</td>\n      <td>True</td>\n      <td>A</td>\n      <td>151315</td>\n    </tr>\n  </tbody>\n</table>\n</div>"
     },
     "metadata": {}
    }
   ],
   "execution_count": null
  },
  {
   "cell_type": "code",
   "metadata": {
    "tags": [],
    "deepnote_to_be_reexecuted": false,
    "source_hash": "1f60ae07",
    "execution_start": 1655767475047,
    "execution_millis": 8,
    "cell_id": "00017-d52c881d-840c-4fee-960f-7cbc046a660c",
    "deepnote_cell_type": "code",
    "deepnote_cell_height": 307
   },
   "source": "df_filed_0 = pd.merge(features_filed_0,stores,on='Store')\ndf_filed_0.head(2)",
   "outputs": [
    {
     "output_type": "execute_result",
     "execution_count": 14,
     "data": {
      "application/vnd.deepnote.dataframe.v3+json": {
       "column_count": 14,
       "row_count": 2,
       "columns": [
        {
         "name": "Store",
         "dtype": "object",
         "stats": {
          "unique_count": 1,
          "nan_count": 0,
          "categories": [
           {
            "name": "1",
            "count": 2
           }
          ]
         }
        },
        {
         "name": "Date",
         "dtype": "datetime64[ns]",
         "stats": {
          "unique_count": 2,
          "nan_count": 0,
          "min": "2010-02-05 00:00:00",
          "max": "2010-02-12 00:00:00",
          "histogram": [
           {
            "bin_start": 1265328000000000000,
            "bin_end": 1265388480000000000,
            "count": 1
           },
           {
            "bin_start": 1265388480000000000,
            "bin_end": 1265448960000000000,
            "count": 0
           },
           {
            "bin_start": 1265448960000000000,
            "bin_end": 1265509440000000000,
            "count": 0
           },
           {
            "bin_start": 1265509440000000000,
            "bin_end": 1265569920000000000,
            "count": 0
           },
           {
            "bin_start": 1265569920000000000,
            "bin_end": 1265630400000000000,
            "count": 0
           },
           {
            "bin_start": 1265630400000000000,
            "bin_end": 1265690880000000000,
            "count": 0
           },
           {
            "bin_start": 1265690880000000000,
            "bin_end": 1265751360000000000,
            "count": 0
           },
           {
            "bin_start": 1265751360000000000,
            "bin_end": 1265811840000000000,
            "count": 0
           },
           {
            "bin_start": 1265811840000000000,
            "bin_end": 1265872320000000000,
            "count": 0
           },
           {
            "bin_start": 1265872320000000000,
            "bin_end": 1265932800000000000,
            "count": 1
           }
          ]
         }
        },
        {
         "name": "Temperature",
         "dtype": "float64",
         "stats": {
          "unique_count": 2,
          "nan_count": 0,
          "min": "38.51",
          "max": "42.31",
          "histogram": [
           {
            "bin_start": 38.51,
            "bin_end": 38.89,
            "count": 1
           },
           {
            "bin_start": 38.89,
            "bin_end": 39.269999999999996,
            "count": 0
           },
           {
            "bin_start": 39.269999999999996,
            "bin_end": 39.65,
            "count": 0
           },
           {
            "bin_start": 39.65,
            "bin_end": 40.03,
            "count": 0
           },
           {
            "bin_start": 40.03,
            "bin_end": 40.41,
            "count": 0
           },
           {
            "bin_start": 40.41,
            "bin_end": 40.79,
            "count": 0
           },
           {
            "bin_start": 40.79,
            "bin_end": 41.17,
            "count": 0
           },
           {
            "bin_start": 41.17,
            "bin_end": 41.550000000000004,
            "count": 0
           },
           {
            "bin_start": 41.550000000000004,
            "bin_end": 41.93,
            "count": 0
           },
           {
            "bin_start": 41.93,
            "bin_end": 42.31,
            "count": 1
           }
          ]
         }
        },
        {
         "name": "Fuel_Price",
         "dtype": "float64",
         "stats": {
          "unique_count": 2,
          "nan_count": 0,
          "min": "2.548",
          "max": "2.572",
          "histogram": [
           {
            "bin_start": 2.548,
            "bin_end": 2.5504000000000002,
            "count": 1
           },
           {
            "bin_start": 2.5504000000000002,
            "bin_end": 2.5528,
            "count": 0
           },
           {
            "bin_start": 2.5528,
            "bin_end": 2.5552,
            "count": 0
           },
           {
            "bin_start": 2.5552,
            "bin_end": 2.5576,
            "count": 0
           },
           {
            "bin_start": 2.5576,
            "bin_end": 2.56,
            "count": 0
           },
           {
            "bin_start": 2.56,
            "bin_end": 2.5624000000000002,
            "count": 0
           },
           {
            "bin_start": 2.5624000000000002,
            "bin_end": 2.5648,
            "count": 0
           },
           {
            "bin_start": 2.5648,
            "bin_end": 2.5672,
            "count": 0
           },
           {
            "bin_start": 2.5672,
            "bin_end": 2.5696,
            "count": 0
           },
           {
            "bin_start": 2.5696,
            "bin_end": 2.572,
            "count": 1
           }
          ]
         }
        },
        {
         "name": "MarkDown1",
         "dtype": "float64",
         "stats": {
          "unique_count": 1,
          "nan_count": 0,
          "min": "0.0",
          "max": "0.0",
          "histogram": [
           {
            "bin_start": -0.5,
            "bin_end": -0.4,
            "count": 0
           },
           {
            "bin_start": -0.4,
            "bin_end": -0.3,
            "count": 0
           },
           {
            "bin_start": -0.3,
            "bin_end": -0.19999999999999996,
            "count": 0
           },
           {
            "bin_start": -0.19999999999999996,
            "bin_end": -0.09999999999999998,
            "count": 0
           },
           {
            "bin_start": -0.09999999999999998,
            "bin_end": 0,
            "count": 0
           },
           {
            "bin_start": 0,
            "bin_end": 0.10000000000000009,
            "count": 2
           },
           {
            "bin_start": 0.10000000000000009,
            "bin_end": 0.20000000000000007,
            "count": 0
           },
           {
            "bin_start": 0.20000000000000007,
            "bin_end": 0.30000000000000004,
            "count": 0
           },
           {
            "bin_start": 0.30000000000000004,
            "bin_end": 0.4,
            "count": 0
           },
           {
            "bin_start": 0.4,
            "bin_end": 0.5,
            "count": 0
           }
          ]
         }
        },
        {
         "name": "MarkDown2",
         "dtype": "float64",
         "stats": {
          "unique_count": 1,
          "nan_count": 0,
          "min": "0.0",
          "max": "0.0",
          "histogram": [
           {
            "bin_start": -0.5,
            "bin_end": -0.4,
            "count": 0
           },
           {
            "bin_start": -0.4,
            "bin_end": -0.3,
            "count": 0
           },
           {
            "bin_start": -0.3,
            "bin_end": -0.19999999999999996,
            "count": 0
           },
           {
            "bin_start": -0.19999999999999996,
            "bin_end": -0.09999999999999998,
            "count": 0
           },
           {
            "bin_start": -0.09999999999999998,
            "bin_end": 0,
            "count": 0
           },
           {
            "bin_start": 0,
            "bin_end": 0.10000000000000009,
            "count": 2
           },
           {
            "bin_start": 0.10000000000000009,
            "bin_end": 0.20000000000000007,
            "count": 0
           },
           {
            "bin_start": 0.20000000000000007,
            "bin_end": 0.30000000000000004,
            "count": 0
           },
           {
            "bin_start": 0.30000000000000004,
            "bin_end": 0.4,
            "count": 0
           },
           {
            "bin_start": 0.4,
            "bin_end": 0.5,
            "count": 0
           }
          ]
         }
        },
        {
         "name": "MarkDown3",
         "dtype": "float64",
         "stats": {
          "unique_count": 1,
          "nan_count": 0,
          "min": "0.0",
          "max": "0.0",
          "histogram": [
           {
            "bin_start": -0.5,
            "bin_end": -0.4,
            "count": 0
           },
           {
            "bin_start": -0.4,
            "bin_end": -0.3,
            "count": 0
           },
           {
            "bin_start": -0.3,
            "bin_end": -0.19999999999999996,
            "count": 0
           },
           {
            "bin_start": -0.19999999999999996,
            "bin_end": -0.09999999999999998,
            "count": 0
           },
           {
            "bin_start": -0.09999999999999998,
            "bin_end": 0,
            "count": 0
           },
           {
            "bin_start": 0,
            "bin_end": 0.10000000000000009,
            "count": 2
           },
           {
            "bin_start": 0.10000000000000009,
            "bin_end": 0.20000000000000007,
            "count": 0
           },
           {
            "bin_start": 0.20000000000000007,
            "bin_end": 0.30000000000000004,
            "count": 0
           },
           {
            "bin_start": 0.30000000000000004,
            "bin_end": 0.4,
            "count": 0
           },
           {
            "bin_start": 0.4,
            "bin_end": 0.5,
            "count": 0
           }
          ]
         }
        },
        {
         "name": "MarkDown4",
         "dtype": "float64",
         "stats": {
          "unique_count": 1,
          "nan_count": 0,
          "min": "0.0",
          "max": "0.0",
          "histogram": [
           {
            "bin_start": -0.5,
            "bin_end": -0.4,
            "count": 0
           },
           {
            "bin_start": -0.4,
            "bin_end": -0.3,
            "count": 0
           },
           {
            "bin_start": -0.3,
            "bin_end": -0.19999999999999996,
            "count": 0
           },
           {
            "bin_start": -0.19999999999999996,
            "bin_end": -0.09999999999999998,
            "count": 0
           },
           {
            "bin_start": -0.09999999999999998,
            "bin_end": 0,
            "count": 0
           },
           {
            "bin_start": 0,
            "bin_end": 0.10000000000000009,
            "count": 2
           },
           {
            "bin_start": 0.10000000000000009,
            "bin_end": 0.20000000000000007,
            "count": 0
           },
           {
            "bin_start": 0.20000000000000007,
            "bin_end": 0.30000000000000004,
            "count": 0
           },
           {
            "bin_start": 0.30000000000000004,
            "bin_end": 0.4,
            "count": 0
           },
           {
            "bin_start": 0.4,
            "bin_end": 0.5,
            "count": 0
           }
          ]
         }
        },
        {
         "name": "MarkDown5",
         "dtype": "float64",
         "stats": {
          "unique_count": 1,
          "nan_count": 0,
          "min": "0.0",
          "max": "0.0",
          "histogram": [
           {
            "bin_start": -0.5,
            "bin_end": -0.4,
            "count": 0
           },
           {
            "bin_start": -0.4,
            "bin_end": -0.3,
            "count": 0
           },
           {
            "bin_start": -0.3,
            "bin_end": -0.19999999999999996,
            "count": 0
           },
           {
            "bin_start": -0.19999999999999996,
            "bin_end": -0.09999999999999998,
            "count": 0
           },
           {
            "bin_start": -0.09999999999999998,
            "bin_end": 0,
            "count": 0
           },
           {
            "bin_start": 0,
            "bin_end": 0.10000000000000009,
            "count": 2
           },
           {
            "bin_start": 0.10000000000000009,
            "bin_end": 0.20000000000000007,
            "count": 0
           },
           {
            "bin_start": 0.20000000000000007,
            "bin_end": 0.30000000000000004,
            "count": 0
           },
           {
            "bin_start": 0.30000000000000004,
            "bin_end": 0.4,
            "count": 0
           },
           {
            "bin_start": 0.4,
            "bin_end": 0.5,
            "count": 0
           }
          ]
         }
        },
        {
         "name": "CPI",
         "dtype": "float64",
         "stats": {
          "unique_count": 2,
          "nan_count": 0,
          "min": "211.0963582",
          "max": "211.2421698",
          "histogram": [
           {
            "bin_start": 211.0963582,
            "bin_end": 211.11093936,
            "count": 1
           },
           {
            "bin_start": 211.11093936,
            "bin_end": 211.12552052,
            "count": 0
           },
           {
            "bin_start": 211.12552052,
            "bin_end": 211.14010168,
            "count": 0
           },
           {
            "bin_start": 211.14010168,
            "bin_end": 211.15468284,
            "count": 0
           },
           {
            "bin_start": 211.15468284,
            "bin_end": 211.169264,
            "count": 0
           },
           {
            "bin_start": 211.169264,
            "bin_end": 211.18384516,
            "count": 0
           },
           {
            "bin_start": 211.18384516,
            "bin_end": 211.19842632,
            "count": 0
           },
           {
            "bin_start": 211.19842632,
            "bin_end": 211.21300748,
            "count": 0
           },
           {
            "bin_start": 211.21300748,
            "bin_end": 211.22758864,
            "count": 0
           },
           {
            "bin_start": 211.22758864,
            "bin_end": 211.2421698,
            "count": 1
           }
          ]
         }
        },
        {
         "name": "Unemployment",
         "dtype": "float64",
         "stats": {
          "unique_count": 1,
          "nan_count": 0,
          "min": "8.106",
          "max": "8.106",
          "histogram": [
           {
            "bin_start": 7.606,
            "bin_end": 7.7059999999999995,
            "count": 0
           },
           {
            "bin_start": 7.7059999999999995,
            "bin_end": 7.806,
            "count": 0
           },
           {
            "bin_start": 7.806,
            "bin_end": 7.906,
            "count": 0
           },
           {
            "bin_start": 7.906,
            "bin_end": 8.006,
            "count": 0
           },
           {
            "bin_start": 8.006,
            "bin_end": 8.106,
            "count": 0
           },
           {
            "bin_start": 8.106,
            "bin_end": 8.206,
            "count": 2
           },
           {
            "bin_start": 8.206,
            "bin_end": 8.306,
            "count": 0
           },
           {
            "bin_start": 8.306,
            "bin_end": 8.406,
            "count": 0
           },
           {
            "bin_start": 8.406,
            "bin_end": 8.506,
            "count": 0
           },
           {
            "bin_start": 8.506,
            "bin_end": 8.606,
            "count": 0
           }
          ]
         }
        },
        {
         "name": "IsHoliday",
         "dtype": "bool",
         "stats": {
          "unique_count": 2,
          "nan_count": 0,
          "categories": [
           {
            "name": "False",
            "count": 1
           },
           {
            "name": "True",
            "count": 1
           }
          ]
         }
        },
        {
         "name": "Type",
         "dtype": "object",
         "stats": {
          "unique_count": 1,
          "nan_count": 0,
          "categories": [
           {
            "name": "A",
            "count": 2
           }
          ]
         }
        },
        {
         "name": "Size",
         "dtype": "int64",
         "stats": {
          "unique_count": 1,
          "nan_count": 0,
          "min": "151315",
          "max": "151315",
          "histogram": [
           {
            "bin_start": 151314.5,
            "bin_end": 151314.6,
            "count": 0
           },
           {
            "bin_start": 151314.6,
            "bin_end": 151314.7,
            "count": 0
           },
           {
            "bin_start": 151314.7,
            "bin_end": 151314.8,
            "count": 0
           },
           {
            "bin_start": 151314.8,
            "bin_end": 151314.9,
            "count": 0
           },
           {
            "bin_start": 151314.9,
            "bin_end": 151315,
            "count": 0
           },
           {
            "bin_start": 151315,
            "bin_end": 151315.1,
            "count": 2
           },
           {
            "bin_start": 151315.1,
            "bin_end": 151315.2,
            "count": 0
           },
           {
            "bin_start": 151315.2,
            "bin_end": 151315.3,
            "count": 0
           },
           {
            "bin_start": 151315.3,
            "bin_end": 151315.4,
            "count": 0
           },
           {
            "bin_start": 151315.4,
            "bin_end": 151315.5,
            "count": 0
           }
          ]
         }
        },
        {
         "name": "_deepnote_index_column",
         "dtype": "int64"
        }
       ],
       "rows": [
        {
         "Store": "1",
         "Date": "2010-02-05T00:00:00.000000",
         "Temperature": 42.31,
         "Fuel_Price": 2.572,
         "MarkDown1": 0,
         "MarkDown2": 0,
         "MarkDown3": 0,
         "MarkDown4": 0,
         "MarkDown5": 0,
         "CPI": 211.0963582,
         "Unemployment": 8.106,
         "IsHoliday": false,
         "Type": "A",
         "Size": 151315,
         "_deepnote_index_column": 0
        },
        {
         "Store": "1",
         "Date": "2010-02-12T00:00:00.000000",
         "Temperature": 38.51,
         "Fuel_Price": 2.548,
         "MarkDown1": 0,
         "MarkDown2": 0,
         "MarkDown3": 0,
         "MarkDown4": 0,
         "MarkDown5": 0,
         "CPI": 211.2421698,
         "Unemployment": 8.106,
         "IsHoliday": true,
         "Type": "A",
         "Size": 151315,
         "_deepnote_index_column": 1
        }
       ]
      },
      "text/plain": "  Store       Date  Temperature  Fuel_Price  MarkDown1  MarkDown2  MarkDown3  \\\n0     1 2010-02-05        42.31       2.572        0.0        0.0        0.0   \n1     1 2010-02-12        38.51       2.548        0.0        0.0        0.0   \n\n   MarkDown4  MarkDown5         CPI  Unemployment  IsHoliday Type    Size  \n0        0.0        0.0  211.096358         8.106      False    A  151315  \n1        0.0        0.0  211.242170         8.106       True    A  151315  ",
      "text/html": "<div>\n<style scoped>\n    .dataframe tbody tr th:only-of-type {\n        vertical-align: middle;\n    }\n\n    .dataframe tbody tr th {\n        vertical-align: top;\n    }\n\n    .dataframe thead th {\n        text-align: right;\n    }\n</style>\n<table border=\"1\" class=\"dataframe\">\n  <thead>\n    <tr style=\"text-align: right;\">\n      <th></th>\n      <th>Store</th>\n      <th>Date</th>\n      <th>Temperature</th>\n      <th>Fuel_Price</th>\n      <th>MarkDown1</th>\n      <th>MarkDown2</th>\n      <th>MarkDown3</th>\n      <th>MarkDown4</th>\n      <th>MarkDown5</th>\n      <th>CPI</th>\n      <th>Unemployment</th>\n      <th>IsHoliday</th>\n      <th>Type</th>\n      <th>Size</th>\n    </tr>\n  </thead>\n  <tbody>\n    <tr>\n      <th>0</th>\n      <td>1</td>\n      <td>2010-02-05</td>\n      <td>42.31</td>\n      <td>2.572</td>\n      <td>0.0</td>\n      <td>0.0</td>\n      <td>0.0</td>\n      <td>0.0</td>\n      <td>0.0</td>\n      <td>211.096358</td>\n      <td>8.106</td>\n      <td>False</td>\n      <td>A</td>\n      <td>151315</td>\n    </tr>\n    <tr>\n      <th>1</th>\n      <td>1</td>\n      <td>2010-02-12</td>\n      <td>38.51</td>\n      <td>2.548</td>\n      <td>0.0</td>\n      <td>0.0</td>\n      <td>0.0</td>\n      <td>0.0</td>\n      <td>0.0</td>\n      <td>211.242170</td>\n      <td>8.106</td>\n      <td>True</td>\n      <td>A</td>\n      <td>151315</td>\n    </tr>\n  </tbody>\n</table>\n</div>"
     },
     "metadata": {}
    }
   ],
   "execution_count": null
  },
  {
   "cell_type": "code",
   "metadata": {
    "tags": [],
    "deepnote_to_be_reexecuted": false,
    "source_hash": "87dadbec",
    "execution_start": 1655767475134,
    "execution_millis": 5,
    "cell_id": "00018-34f92b82-d515-4a3c-908a-ec7c28c70c08",
    "deepnote_cell_type": "code",
    "deepnote_cell_height": 306.796875
   },
   "source": "df_raw = pd.merge(features,stores,on='Store')\ndf_raw.head(2)",
   "outputs": [
    {
     "output_type": "execute_result",
     "execution_count": 15,
     "data": {
      "application/vnd.deepnote.dataframe.v3+json": {
       "column_count": 14,
       "row_count": 2,
       "columns": [
        {
         "name": "Store",
         "dtype": "object",
         "stats": {
          "unique_count": 1,
          "nan_count": 0,
          "categories": [
           {
            "name": "1",
            "count": 2
           }
          ]
         }
        },
        {
         "name": "Date",
         "dtype": "datetime64[ns]",
         "stats": {
          "unique_count": 2,
          "nan_count": 0,
          "min": "2010-02-05 00:00:00",
          "max": "2010-02-12 00:00:00",
          "histogram": [
           {
            "bin_start": 1265328000000000000,
            "bin_end": 1265388480000000000,
            "count": 1
           },
           {
            "bin_start": 1265388480000000000,
            "bin_end": 1265448960000000000,
            "count": 0
           },
           {
            "bin_start": 1265448960000000000,
            "bin_end": 1265509440000000000,
            "count": 0
           },
           {
            "bin_start": 1265509440000000000,
            "bin_end": 1265569920000000000,
            "count": 0
           },
           {
            "bin_start": 1265569920000000000,
            "bin_end": 1265630400000000000,
            "count": 0
           },
           {
            "bin_start": 1265630400000000000,
            "bin_end": 1265690880000000000,
            "count": 0
           },
           {
            "bin_start": 1265690880000000000,
            "bin_end": 1265751360000000000,
            "count": 0
           },
           {
            "bin_start": 1265751360000000000,
            "bin_end": 1265811840000000000,
            "count": 0
           },
           {
            "bin_start": 1265811840000000000,
            "bin_end": 1265872320000000000,
            "count": 0
           },
           {
            "bin_start": 1265872320000000000,
            "bin_end": 1265932800000000000,
            "count": 1
           }
          ]
         }
        },
        {
         "name": "Temperature",
         "dtype": "float64",
         "stats": {
          "unique_count": 2,
          "nan_count": 0,
          "min": "38.51",
          "max": "42.31",
          "histogram": [
           {
            "bin_start": 38.51,
            "bin_end": 38.89,
            "count": 1
           },
           {
            "bin_start": 38.89,
            "bin_end": 39.269999999999996,
            "count": 0
           },
           {
            "bin_start": 39.269999999999996,
            "bin_end": 39.65,
            "count": 0
           },
           {
            "bin_start": 39.65,
            "bin_end": 40.03,
            "count": 0
           },
           {
            "bin_start": 40.03,
            "bin_end": 40.41,
            "count": 0
           },
           {
            "bin_start": 40.41,
            "bin_end": 40.79,
            "count": 0
           },
           {
            "bin_start": 40.79,
            "bin_end": 41.17,
            "count": 0
           },
           {
            "bin_start": 41.17,
            "bin_end": 41.550000000000004,
            "count": 0
           },
           {
            "bin_start": 41.550000000000004,
            "bin_end": 41.93,
            "count": 0
           },
           {
            "bin_start": 41.93,
            "bin_end": 42.31,
            "count": 1
           }
          ]
         }
        },
        {
         "name": "Fuel_Price",
         "dtype": "float64",
         "stats": {
          "unique_count": 2,
          "nan_count": 0,
          "min": "2.548",
          "max": "2.572",
          "histogram": [
           {
            "bin_start": 2.548,
            "bin_end": 2.5504000000000002,
            "count": 1
           },
           {
            "bin_start": 2.5504000000000002,
            "bin_end": 2.5528,
            "count": 0
           },
           {
            "bin_start": 2.5528,
            "bin_end": 2.5552,
            "count": 0
           },
           {
            "bin_start": 2.5552,
            "bin_end": 2.5576,
            "count": 0
           },
           {
            "bin_start": 2.5576,
            "bin_end": 2.56,
            "count": 0
           },
           {
            "bin_start": 2.56,
            "bin_end": 2.5624000000000002,
            "count": 0
           },
           {
            "bin_start": 2.5624000000000002,
            "bin_end": 2.5648,
            "count": 0
           },
           {
            "bin_start": 2.5648,
            "bin_end": 2.5672,
            "count": 0
           },
           {
            "bin_start": 2.5672,
            "bin_end": 2.5696,
            "count": 0
           },
           {
            "bin_start": 2.5696,
            "bin_end": 2.572,
            "count": 1
           }
          ]
         }
        },
        {
         "name": "MarkDown1",
         "dtype": "float64",
         "stats": {
          "unique_count": 0,
          "nan_count": 2,
          "min": null,
          "max": null,
          "histogram": [
           {
            "bin_start": 0,
            "bin_end": 0.1,
            "count": 0
           },
           {
            "bin_start": 0.1,
            "bin_end": 0.2,
            "count": 0
           },
           {
            "bin_start": 0.2,
            "bin_end": 0.30000000000000004,
            "count": 0
           },
           {
            "bin_start": 0.30000000000000004,
            "bin_end": 0.4,
            "count": 0
           },
           {
            "bin_start": 0.4,
            "bin_end": 0.5,
            "count": 0
           },
           {
            "bin_start": 0.5,
            "bin_end": 0.6000000000000001,
            "count": 0
           },
           {
            "bin_start": 0.6000000000000001,
            "bin_end": 0.7000000000000001,
            "count": 0
           },
           {
            "bin_start": 0.7000000000000001,
            "bin_end": 0.8,
            "count": 0
           },
           {
            "bin_start": 0.8,
            "bin_end": 0.9,
            "count": 0
           },
           {
            "bin_start": 0.9,
            "bin_end": 1,
            "count": 0
           }
          ]
         }
        },
        {
         "name": "MarkDown2",
         "dtype": "float64",
         "stats": {
          "unique_count": 0,
          "nan_count": 2,
          "min": null,
          "max": null,
          "histogram": [
           {
            "bin_start": 0,
            "bin_end": 0.1,
            "count": 0
           },
           {
            "bin_start": 0.1,
            "bin_end": 0.2,
            "count": 0
           },
           {
            "bin_start": 0.2,
            "bin_end": 0.30000000000000004,
            "count": 0
           },
           {
            "bin_start": 0.30000000000000004,
            "bin_end": 0.4,
            "count": 0
           },
           {
            "bin_start": 0.4,
            "bin_end": 0.5,
            "count": 0
           },
           {
            "bin_start": 0.5,
            "bin_end": 0.6000000000000001,
            "count": 0
           },
           {
            "bin_start": 0.6000000000000001,
            "bin_end": 0.7000000000000001,
            "count": 0
           },
           {
            "bin_start": 0.7000000000000001,
            "bin_end": 0.8,
            "count": 0
           },
           {
            "bin_start": 0.8,
            "bin_end": 0.9,
            "count": 0
           },
           {
            "bin_start": 0.9,
            "bin_end": 1,
            "count": 0
           }
          ]
         }
        },
        {
         "name": "MarkDown3",
         "dtype": "float64",
         "stats": {
          "unique_count": 0,
          "nan_count": 2,
          "min": null,
          "max": null,
          "histogram": [
           {
            "bin_start": 0,
            "bin_end": 0.1,
            "count": 0
           },
           {
            "bin_start": 0.1,
            "bin_end": 0.2,
            "count": 0
           },
           {
            "bin_start": 0.2,
            "bin_end": 0.30000000000000004,
            "count": 0
           },
           {
            "bin_start": 0.30000000000000004,
            "bin_end": 0.4,
            "count": 0
           },
           {
            "bin_start": 0.4,
            "bin_end": 0.5,
            "count": 0
           },
           {
            "bin_start": 0.5,
            "bin_end": 0.6000000000000001,
            "count": 0
           },
           {
            "bin_start": 0.6000000000000001,
            "bin_end": 0.7000000000000001,
            "count": 0
           },
           {
            "bin_start": 0.7000000000000001,
            "bin_end": 0.8,
            "count": 0
           },
           {
            "bin_start": 0.8,
            "bin_end": 0.9,
            "count": 0
           },
           {
            "bin_start": 0.9,
            "bin_end": 1,
            "count": 0
           }
          ]
         }
        },
        {
         "name": "MarkDown4",
         "dtype": "float64",
         "stats": {
          "unique_count": 0,
          "nan_count": 2,
          "min": null,
          "max": null,
          "histogram": [
           {
            "bin_start": 0,
            "bin_end": 0.1,
            "count": 0
           },
           {
            "bin_start": 0.1,
            "bin_end": 0.2,
            "count": 0
           },
           {
            "bin_start": 0.2,
            "bin_end": 0.30000000000000004,
            "count": 0
           },
           {
            "bin_start": 0.30000000000000004,
            "bin_end": 0.4,
            "count": 0
           },
           {
            "bin_start": 0.4,
            "bin_end": 0.5,
            "count": 0
           },
           {
            "bin_start": 0.5,
            "bin_end": 0.6000000000000001,
            "count": 0
           },
           {
            "bin_start": 0.6000000000000001,
            "bin_end": 0.7000000000000001,
            "count": 0
           },
           {
            "bin_start": 0.7000000000000001,
            "bin_end": 0.8,
            "count": 0
           },
           {
            "bin_start": 0.8,
            "bin_end": 0.9,
            "count": 0
           },
           {
            "bin_start": 0.9,
            "bin_end": 1,
            "count": 0
           }
          ]
         }
        },
        {
         "name": "MarkDown5",
         "dtype": "float64",
         "stats": {
          "unique_count": 0,
          "nan_count": 2,
          "min": null,
          "max": null,
          "histogram": [
           {
            "bin_start": 0,
            "bin_end": 0.1,
            "count": 0
           },
           {
            "bin_start": 0.1,
            "bin_end": 0.2,
            "count": 0
           },
           {
            "bin_start": 0.2,
            "bin_end": 0.30000000000000004,
            "count": 0
           },
           {
            "bin_start": 0.30000000000000004,
            "bin_end": 0.4,
            "count": 0
           },
           {
            "bin_start": 0.4,
            "bin_end": 0.5,
            "count": 0
           },
           {
            "bin_start": 0.5,
            "bin_end": 0.6000000000000001,
            "count": 0
           },
           {
            "bin_start": 0.6000000000000001,
            "bin_end": 0.7000000000000001,
            "count": 0
           },
           {
            "bin_start": 0.7000000000000001,
            "bin_end": 0.8,
            "count": 0
           },
           {
            "bin_start": 0.8,
            "bin_end": 0.9,
            "count": 0
           },
           {
            "bin_start": 0.9,
            "bin_end": 1,
            "count": 0
           }
          ]
         }
        },
        {
         "name": "CPI",
         "dtype": "float64",
         "stats": {
          "unique_count": 2,
          "nan_count": 0,
          "min": "211.0963582",
          "max": "211.2421698",
          "histogram": [
           {
            "bin_start": 211.0963582,
            "bin_end": 211.11093936,
            "count": 1
           },
           {
            "bin_start": 211.11093936,
            "bin_end": 211.12552052,
            "count": 0
           },
           {
            "bin_start": 211.12552052,
            "bin_end": 211.14010168,
            "count": 0
           },
           {
            "bin_start": 211.14010168,
            "bin_end": 211.15468284,
            "count": 0
           },
           {
            "bin_start": 211.15468284,
            "bin_end": 211.169264,
            "count": 0
           },
           {
            "bin_start": 211.169264,
            "bin_end": 211.18384516,
            "count": 0
           },
           {
            "bin_start": 211.18384516,
            "bin_end": 211.19842632,
            "count": 0
           },
           {
            "bin_start": 211.19842632,
            "bin_end": 211.21300748,
            "count": 0
           },
           {
            "bin_start": 211.21300748,
            "bin_end": 211.22758864,
            "count": 0
           },
           {
            "bin_start": 211.22758864,
            "bin_end": 211.2421698,
            "count": 1
           }
          ]
         }
        },
        {
         "name": "Unemployment",
         "dtype": "float64",
         "stats": {
          "unique_count": 1,
          "nan_count": 0,
          "min": "8.106",
          "max": "8.106",
          "histogram": [
           {
            "bin_start": 7.606,
            "bin_end": 7.7059999999999995,
            "count": 0
           },
           {
            "bin_start": 7.7059999999999995,
            "bin_end": 7.806,
            "count": 0
           },
           {
            "bin_start": 7.806,
            "bin_end": 7.906,
            "count": 0
           },
           {
            "bin_start": 7.906,
            "bin_end": 8.006,
            "count": 0
           },
           {
            "bin_start": 8.006,
            "bin_end": 8.106,
            "count": 0
           },
           {
            "bin_start": 8.106,
            "bin_end": 8.206,
            "count": 2
           },
           {
            "bin_start": 8.206,
            "bin_end": 8.306,
            "count": 0
           },
           {
            "bin_start": 8.306,
            "bin_end": 8.406,
            "count": 0
           },
           {
            "bin_start": 8.406,
            "bin_end": 8.506,
            "count": 0
           },
           {
            "bin_start": 8.506,
            "bin_end": 8.606,
            "count": 0
           }
          ]
         }
        },
        {
         "name": "IsHoliday",
         "dtype": "bool",
         "stats": {
          "unique_count": 2,
          "nan_count": 0,
          "categories": [
           {
            "name": "False",
            "count": 1
           },
           {
            "name": "True",
            "count": 1
           }
          ]
         }
        },
        {
         "name": "Type",
         "dtype": "object",
         "stats": {
          "unique_count": 1,
          "nan_count": 0,
          "categories": [
           {
            "name": "A",
            "count": 2
           }
          ]
         }
        },
        {
         "name": "Size",
         "dtype": "int64",
         "stats": {
          "unique_count": 1,
          "nan_count": 0,
          "min": "151315",
          "max": "151315",
          "histogram": [
           {
            "bin_start": 151314.5,
            "bin_end": 151314.6,
            "count": 0
           },
           {
            "bin_start": 151314.6,
            "bin_end": 151314.7,
            "count": 0
           },
           {
            "bin_start": 151314.7,
            "bin_end": 151314.8,
            "count": 0
           },
           {
            "bin_start": 151314.8,
            "bin_end": 151314.9,
            "count": 0
           },
           {
            "bin_start": 151314.9,
            "bin_end": 151315,
            "count": 0
           },
           {
            "bin_start": 151315,
            "bin_end": 151315.1,
            "count": 2
           },
           {
            "bin_start": 151315.1,
            "bin_end": 151315.2,
            "count": 0
           },
           {
            "bin_start": 151315.2,
            "bin_end": 151315.3,
            "count": 0
           },
           {
            "bin_start": 151315.3,
            "bin_end": 151315.4,
            "count": 0
           },
           {
            "bin_start": 151315.4,
            "bin_end": 151315.5,
            "count": 0
           }
          ]
         }
        },
        {
         "name": "_deepnote_index_column",
         "dtype": "int64"
        }
       ],
       "rows": [
        {
         "Store": "1",
         "Date": "2010-02-05T00:00:00.000000",
         "Temperature": 42.31,
         "Fuel_Price": 2.572,
         "MarkDown1": "nan",
         "MarkDown2": "nan",
         "MarkDown3": "nan",
         "MarkDown4": "nan",
         "MarkDown5": "nan",
         "CPI": 211.0963582,
         "Unemployment": 8.106,
         "IsHoliday": false,
         "Type": "A",
         "Size": 151315,
         "_deepnote_index_column": 0
        },
        {
         "Store": "1",
         "Date": "2010-02-12T00:00:00.000000",
         "Temperature": 38.51,
         "Fuel_Price": 2.548,
         "MarkDown1": "nan",
         "MarkDown2": "nan",
         "MarkDown3": "nan",
         "MarkDown4": "nan",
         "MarkDown5": "nan",
         "CPI": 211.2421698,
         "Unemployment": 8.106,
         "IsHoliday": true,
         "Type": "A",
         "Size": 151315,
         "_deepnote_index_column": 1
        }
       ]
      },
      "text/plain": "  Store       Date  Temperature  Fuel_Price  MarkDown1  MarkDown2  MarkDown3  \\\n0     1 2010-02-05        42.31       2.572        NaN        NaN        NaN   \n1     1 2010-02-12        38.51       2.548        NaN        NaN        NaN   \n\n   MarkDown4  MarkDown5         CPI  Unemployment  IsHoliday Type    Size  \n0        NaN        NaN  211.096358         8.106      False    A  151315  \n1        NaN        NaN  211.242170         8.106       True    A  151315  ",
      "text/html": "<div>\n<style scoped>\n    .dataframe tbody tr th:only-of-type {\n        vertical-align: middle;\n    }\n\n    .dataframe tbody tr th {\n        vertical-align: top;\n    }\n\n    .dataframe thead th {\n        text-align: right;\n    }\n</style>\n<table border=\"1\" class=\"dataframe\">\n  <thead>\n    <tr style=\"text-align: right;\">\n      <th></th>\n      <th>Store</th>\n      <th>Date</th>\n      <th>Temperature</th>\n      <th>Fuel_Price</th>\n      <th>MarkDown1</th>\n      <th>MarkDown2</th>\n      <th>MarkDown3</th>\n      <th>MarkDown4</th>\n      <th>MarkDown5</th>\n      <th>CPI</th>\n      <th>Unemployment</th>\n      <th>IsHoliday</th>\n      <th>Type</th>\n      <th>Size</th>\n    </tr>\n  </thead>\n  <tbody>\n    <tr>\n      <th>0</th>\n      <td>1</td>\n      <td>2010-02-05</td>\n      <td>42.31</td>\n      <td>2.572</td>\n      <td>NaN</td>\n      <td>NaN</td>\n      <td>NaN</td>\n      <td>NaN</td>\n      <td>NaN</td>\n      <td>211.096358</td>\n      <td>8.106</td>\n      <td>False</td>\n      <td>A</td>\n      <td>151315</td>\n    </tr>\n    <tr>\n      <th>1</th>\n      <td>1</td>\n      <td>2010-02-12</td>\n      <td>38.51</td>\n      <td>2.548</td>\n      <td>NaN</td>\n      <td>NaN</td>\n      <td>NaN</td>\n      <td>NaN</td>\n      <td>NaN</td>\n      <td>211.242170</td>\n      <td>8.106</td>\n      <td>True</td>\n      <td>A</td>\n      <td>151315</td>\n    </tr>\n  </tbody>\n</table>\n</div>"
     },
     "metadata": {}
    }
   ],
   "execution_count": null
  },
  {
   "cell_type": "code",
   "metadata": {
    "tags": [],
    "deepnote_to_be_reexecuted": false,
    "source_hash": "ae8390d0",
    "execution_start": 1655769572214,
    "execution_millis": 4922,
    "cell_id": "00019-b4a88d94-d586-4368-bb04-228081b66036",
    "deepnote_cell_type": "code",
    "deepnote_cell_height": 923,
    "deepnote_output_heights": [
     558.484375,
     558.484375,
     546
    ]
   },
   "source": "fig,axs = plt.subplots(3,3,figsize=(12,8))\nplt.tight_layout(w_pad=4)\ncolumns = ['MarkDown1','MarkDown2','MarkDown3','MarkDown4','MarkDown5','CPI','Unemployment']\n\nfor feature, ax in zip(columns,axs.flatten()):    \n    df_raw[feature].plot(kind='kde',label=f'raw',ax=ax,alpha=0.7)\n    df_filed_0[feature].plot(kind='kde',label=f'filed_0',ax=ax,alpha=0.7,)\n    df_filed[feature].plot(kind='kde',label=f'filed',ax=ax,alpha=0.7)\n    df_filter[feature].plot(kind='kde',label=f'filter',ax=ax,alpha=0.7)\n    if feature.startswith('MarkDown'):\n        ax.set_xlim(-10000,15000)\n    ax.set_title(feature)\n    ax.legend(loc=\"upper right\")",
   "outputs": [
    {
     "data": {
      "text/plain": "<Figure size 864x576 with 9 Axes>",
      "image/png": "[encoded data removed]"
     },
     "metadata": {
      "needs_background": "light",
      "image/png": {
       "width": 903,
       "height": 580
      }
     },
     "output_type": "display_data"
    }
   ],
   "execution_count": null
  },
  {
   "cell_type": "markdown",
   "source": "### ¿is the nan managing correct?",
   "metadata": {
    "tags": [],
    "cell_id": "00020-0b52898c-7bb7-4e2a-8156-0318d7feedcb",
    "deepnote_cell_type": "markdown",
    "deepnote_cell_height": 114
   }
  },
  {
   "cell_type": "code",
   "metadata": {
    "tags": [],
    "deepnote_to_be_reexecuted": false,
    "source_hash": "94bb859c",
    "execution_start": 1655769980980,
    "execution_millis": 1766,
    "owner_user_id": "7d7648bd-030c-4878-9599-6316a762b748",
    "cell_id": "00021-929129e2-a6a4-4308-b1f8-951422e7df58",
    "deepnote_cell_type": "code",
    "deepnote_cell_height": 452,
    "deepnote_output_heights": [
     21,
     250
    ]
   },
   "source": "data = pd.concat([df_raw['MarkDown1'],df_filed['MarkDown1'],df_filed_0['MarkDown1']],axis=1)\ndata.columns = ['raw','filed','filed_0']\nsns.histplot(data=data)",
   "outputs": [
    {
     "output_type": "execute_result",
     "execution_count": 59,
     "data": {
      "text/plain": "<AxesSubplot:ylabel='Count'>"
     },
     "metadata": {}
    },
    {
     "data": {
      "text/plain": "<Figure size 432x288 with 1 Axes>",
      "image/png": "[encoded data removed]"
     },
     "metadata": {
      "needs_background": "light",
      "image/png": {
       "width": 395,
       "height": 248
      }
     },
     "output_type": "display_data"
    }
   ],
   "execution_count": null
  },
  {
   "cell_type": "markdown",
   "source": "<a style='text-decoration:none;line-height:16px;display:flex;color:#5B5B62;padding:10px;justify-content:end;' href='https://deepnote.com?utm_source=created-in-deepnote-cell&projectId=740c3fbb-6503-48b5-8790-fc69ebaa42e0' target=\"_blank\">\n<img alt='Created in deepnote.com' style='display:inline;max-height:16px;margin:0px;margin-right:7.5px;' src='data:image/svg+xml;base64,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' > </img>\nCreated in <span style='font-weight:600;margin-left:4px;'>Deepnote</span></a>",
   "metadata": {
    "tags": [],
    "created_in_deepnote_cell": true,
    "deepnote_cell_type": "markdown"
   }
  }
 ],
 "nbformat": 4,
 "nbformat_minor": 2,
 "metadata": {
  "orig_nbformat": 2,
  "deepnote": {},
  "deepnote_notebook_id": "1aa2d3ed-4517-408a-926c-2166addae25e",
  "deepnote_execution_queue": []
 }
}