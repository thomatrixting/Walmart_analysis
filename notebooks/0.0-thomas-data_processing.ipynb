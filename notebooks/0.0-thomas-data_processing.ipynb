{
 "cells": [
  {
   "cell_type": "markdown",
   "source": "# preparation",
   "metadata": {
    "cell_id": "a5f9cc072d594d52ba7ad76abeda1050",
    "tags": [],
    "deepnote_cell_type": "markdown",
    "deepnote_cell_height": 82
   }
  },
  {
   "cell_type": "code",
   "metadata": {
    "tags": [],
    "cell_id": "b03b98d8-968c-4b74-849e-2c12396bf5ee",
    "deepnote_to_be_reexecuted": false,
    "source_hash": "3bde84f3",
    "execution_start": 1655930717673,
    "execution_millis": 3,
    "deepnote_cell_type": "code",
    "deepnote_cell_height": 166
   },
   "source": "import pyhere\nroot = pyhere.here().resolve()\n\nprint(root)",
   "execution_count": 1,
   "outputs": [
    {
     "name": "stdout",
     "text": "/work/Walmart_analysis\n",
     "output_type": "stream"
    }
   ]
  },
  {
   "cell_type": "code",
   "metadata": {
    "cell_id": "b8d7e6997cf14a23bc9fa25e944790c1",
    "tags": [],
    "deepnote_to_be_reexecuted": false,
    "source_hash": "641487e4",
    "execution_start": 1655930717674,
    "execution_millis": 77,
    "deepnote_cell_type": "code",
    "deepnote_cell_height": 81
   },
   "source": "import kaggle",
   "execution_count": 2,
   "outputs": []
  },
  {
   "cell_type": "code",
   "metadata": {
    "cell_id": "94040da5f2d9445d80cb1c1a5e08d4fd",
    "tags": [],
    "deepnote_to_be_reexecuted": false,
    "source_hash": "24b26b86",
    "execution_start": 1655930717756,
    "execution_millis": 1258,
    "deepnote_cell_type": "code",
    "deepnote_cell_height": 135
   },
   "source": "import pandas as pd\nimport numpy as np\nimport matplotlib.pyplot as plt\nimport seaborn as sns",
   "execution_count": 3,
   "outputs": []
  },
  {
   "cell_type": "markdown",
   "source": "# data processing",
   "metadata": {
    "cell_id": "1138acc2863845bea784c827bde133a3",
    "tags": [],
    "deepnote_cell_type": "markdown",
    "deepnote_cell_height": 82
   }
  },
  {
   "cell_type": "markdown",
   "source": "## data extraccion",
   "metadata": {
    "cell_id": "8b4fb217fc034710a39a05df13566ea8",
    "tags": [],
    "deepnote_cell_type": "markdown",
    "deepnote_cell_height": 70
   }
  },
  {
   "cell_type": "code",
   "metadata": {
    "cell_id": "cd9caa744f634cacad53d05480c4d69f",
    "tags": [],
    "deepnote_to_be_reexecuted": false,
    "source_hash": "e58edfd9",
    "execution_start": 1655930719017,
    "execution_millis": 1495,
    "deepnote_cell_type": "code",
    "deepnote_cell_height": 152
   },
   "source": "!kaggle datasets download -d aslanahmedov/walmart-sales-forecast -p {root.joinpath('data')} --unzip",
   "execution_count": 4,
   "outputs": [
    {
     "name": "stdout",
     "text": "Downloading walmart-sales-forecast.zip to /work/Walmart_analysis/data\n  0%|                                               | 0.00/3.36M [00:00<?, ?B/s]\n100%|███████████████████████████████████████| 3.36M/3.36M [00:00<00:00, 112MB/s]\n",
     "output_type": "stream"
    }
   ]
  },
  {
   "cell_type": "code",
   "metadata": {
    "cell_id": "a0fcdd81b0774826b3f5e8e5a359832b",
    "tags": [],
    "deepnote_to_be_reexecuted": false,
    "source_hash": "95d3ec9",
    "execution_start": 1655930720503,
    "execution_millis": 94,
    "deepnote_cell_type": "code",
    "deepnote_cell_height": 306.796875
   },
   "source": "features = pd.read_csv(root.joinpath('data','features.csv'))\nfeatures.head(2)",
   "execution_count": 5,
   "outputs": [
    {
     "output_type": "execute_result",
     "execution_count": 5,
     "data": {
      "application/vnd.deepnote.dataframe.v3+json": {
       "column_count": 12,
       "row_count": 2,
       "columns": [
        {
         "name": "Store",
         "dtype": "int64",
         "stats": {
          "unique_count": 1,
          "nan_count": 0,
          "min": "1",
          "max": "1",
          "histogram": [
           {
            "bin_start": 0.5,
            "bin_end": 0.6,
            "count": 0
           },
           {
            "bin_start": 0.6,
            "bin_end": 0.7,
            "count": 0
           },
           {
            "bin_start": 0.7,
            "bin_end": 0.8,
            "count": 0
           },
           {
            "bin_start": 0.8,
            "bin_end": 0.9,
            "count": 0
           },
           {
            "bin_start": 0.9,
            "bin_end": 1,
            "count": 0
           },
           {
            "bin_start": 1,
            "bin_end": 1.1,
            "count": 2
           },
           {
            "bin_start": 1.1,
            "bin_end": 1.2000000000000002,
            "count": 0
           },
           {
            "bin_start": 1.2000000000000002,
            "bin_end": 1.3,
            "count": 0
           },
           {
            "bin_start": 1.3,
            "bin_end": 1.4,
            "count": 0
           },
           {
            "bin_start": 1.4,
            "bin_end": 1.5,
            "count": 0
           }
          ]
         }
        },
        {
         "name": "Date",
         "dtype": "object",
         "stats": {
          "unique_count": 2,
          "nan_count": 0,
          "categories": [
           {
            "name": "2010-02-05",
            "count": 1
           },
           {
            "name": "2010-02-12",
            "count": 1
           }
          ]
         }
        },
        {
         "name": "Temperature",
         "dtype": "float64",
         "stats": {
          "unique_count": 2,
          "nan_count": 0,
          "min": "38.51",
          "max": "42.31",
          "histogram": [
           {
            "bin_start": 38.51,
            "bin_end": 38.89,
            "count": 1
           },
           {
            "bin_start": 38.89,
            "bin_end": 39.269999999999996,
            "count": 0
           },
           {
            "bin_start": 39.269999999999996,
            "bin_end": 39.65,
            "count": 0
           },
           {
            "bin_start": 39.65,
            "bin_end": 40.03,
            "count": 0
           },
           {
            "bin_start": 40.03,
            "bin_end": 40.41,
            "count": 0
           },
           {
            "bin_start": 40.41,
            "bin_end": 40.79,
            "count": 0
           },
           {
            "bin_start": 40.79,
            "bin_end": 41.17,
            "count": 0
           },
           {
            "bin_start": 41.17,
            "bin_end": 41.550000000000004,
            "count": 0
           },
           {
            "bin_start": 41.550000000000004,
            "bin_end": 41.93,
            "count": 0
           },
           {
            "bin_start": 41.93,
            "bin_end": 42.31,
            "count": 1
           }
          ]
         }
        },
        {
         "name": "Fuel_Price",
         "dtype": "float64",
         "stats": {
          "unique_count": 2,
          "nan_count": 0,
          "min": "2.548",
          "max": "2.572",
          "histogram": [
           {
            "bin_start": 2.548,
            "bin_end": 2.5504000000000002,
            "count": 1
           },
           {
            "bin_start": 2.5504000000000002,
            "bin_end": 2.5528,
            "count": 0
           },
           {
            "bin_start": 2.5528,
            "bin_end": 2.5552,
            "count": 0
           },
           {
            "bin_start": 2.5552,
            "bin_end": 2.5576,
            "count": 0
           },
           {
            "bin_start": 2.5576,
            "bin_end": 2.56,
            "count": 0
           },
           {
            "bin_start": 2.56,
            "bin_end": 2.5624000000000002,
            "count": 0
           },
           {
            "bin_start": 2.5624000000000002,
            "bin_end": 2.5648,
            "count": 0
           },
           {
            "bin_start": 2.5648,
            "bin_end": 2.5672,
            "count": 0
           },
           {
            "bin_start": 2.5672,
            "bin_end": 2.5696,
            "count": 0
           },
           {
            "bin_start": 2.5696,
            "bin_end": 2.572,
            "count": 1
           }
          ]
         }
        },
        {
         "name": "MarkDown1",
         "dtype": "float64",
         "stats": {
          "unique_count": 0,
          "nan_count": 2,
          "min": null,
          "max": null,
          "histogram": [
           {
            "bin_start": 0,
            "bin_end": 0.1,
            "count": 0
           },
           {
            "bin_start": 0.1,
            "bin_end": 0.2,
            "count": 0
           },
           {
            "bin_start": 0.2,
            "bin_end": 0.30000000000000004,
            "count": 0
           },
           {
            "bin_start": 0.30000000000000004,
            "bin_end": 0.4,
            "count": 0
           },
           {
            "bin_start": 0.4,
            "bin_end": 0.5,
            "count": 0
           },
           {
            "bin_start": 0.5,
            "bin_end": 0.6000000000000001,
            "count": 0
           },
           {
            "bin_start": 0.6000000000000001,
            "bin_end": 0.7000000000000001,
            "count": 0
           },
           {
            "bin_start": 0.7000000000000001,
            "bin_end": 0.8,
            "count": 0
           },
           {
            "bin_start": 0.8,
            "bin_end": 0.9,
            "count": 0
           },
           {
            "bin_start": 0.9,
            "bin_end": 1,
            "count": 0
           }
          ]
         }
        },
        {
         "name": "MarkDown2",
         "dtype": "float64",
         "stats": {
          "unique_count": 0,
          "nan_count": 2,
          "min": null,
          "max": null,
          "histogram": [
           {
            "bin_start": 0,
            "bin_end": 0.1,
            "count": 0
           },
           {
            "bin_start": 0.1,
            "bin_end": 0.2,
            "count": 0
           },
           {
            "bin_start": 0.2,
            "bin_end": 0.30000000000000004,
            "count": 0
           },
           {
            "bin_start": 0.30000000000000004,
            "bin_end": 0.4,
            "count": 0
           },
           {
            "bin_start": 0.4,
            "bin_end": 0.5,
            "count": 0
           },
           {
            "bin_start": 0.5,
            "bin_end": 0.6000000000000001,
            "count": 0
           },
           {
            "bin_start": 0.6000000000000001,
            "bin_end": 0.7000000000000001,
            "count": 0
           },
           {
            "bin_start": 0.7000000000000001,
            "bin_end": 0.8,
            "count": 0
           },
           {
            "bin_start": 0.8,
            "bin_end": 0.9,
            "count": 0
           },
           {
            "bin_start": 0.9,
            "bin_end": 1,
            "count": 0
           }
          ]
         }
        },
        {
         "name": "MarkDown3",
         "dtype": "float64",
         "stats": {
          "unique_count": 0,
          "nan_count": 2,
          "min": null,
          "max": null,
          "histogram": [
           {
            "bin_start": 0,
            "bin_end": 0.1,
            "count": 0
           },
           {
            "bin_start": 0.1,
            "bin_end": 0.2,
            "count": 0
           },
           {
            "bin_start": 0.2,
            "bin_end": 0.30000000000000004,
            "count": 0
           },
           {
            "bin_start": 0.30000000000000004,
            "bin_end": 0.4,
            "count": 0
           },
           {
            "bin_start": 0.4,
            "bin_end": 0.5,
            "count": 0
           },
           {
            "bin_start": 0.5,
            "bin_end": 0.6000000000000001,
            "count": 0
           },
           {
            "bin_start": 0.6000000000000001,
            "bin_end": 0.7000000000000001,
            "count": 0
           },
           {
            "bin_start": 0.7000000000000001,
            "bin_end": 0.8,
            "count": 0
           },
           {
            "bin_start": 0.8,
            "bin_end": 0.9,
            "count": 0
           },
           {
            "bin_start": 0.9,
            "bin_end": 1,
            "count": 0
           }
          ]
         }
        },
        {
         "name": "MarkDown4",
         "dtype": "float64",
         "stats": {
          "unique_count": 0,
          "nan_count": 2,
          "min": null,
          "max": null,
          "histogram": [
           {
            "bin_start": 0,
            "bin_end": 0.1,
            "count": 0
           },
           {
            "bin_start": 0.1,
            "bin_end": 0.2,
            "count": 0
           },
           {
            "bin_start": 0.2,
            "bin_end": 0.30000000000000004,
            "count": 0
           },
           {
            "bin_start": 0.30000000000000004,
            "bin_end": 0.4,
            "count": 0
           },
           {
            "bin_start": 0.4,
            "bin_end": 0.5,
            "count": 0
           },
           {
            "bin_start": 0.5,
            "bin_end": 0.6000000000000001,
            "count": 0
           },
           {
            "bin_start": 0.6000000000000001,
            "bin_end": 0.7000000000000001,
            "count": 0
           },
           {
            "bin_start": 0.7000000000000001,
            "bin_end": 0.8,
            "count": 0
           },
           {
            "bin_start": 0.8,
            "bin_end": 0.9,
            "count": 0
           },
           {
            "bin_start": 0.9,
            "bin_end": 1,
            "count": 0
           }
          ]
         }
        },
        {
         "name": "MarkDown5",
         "dtype": "float64",
         "stats": {
          "unique_count": 0,
          "nan_count": 2,
          "min": null,
          "max": null,
          "histogram": [
           {
            "bin_start": 0,
            "bin_end": 0.1,
            "count": 0
           },
           {
            "bin_start": 0.1,
            "bin_end": 0.2,
            "count": 0
           },
           {
            "bin_start": 0.2,
            "bin_end": 0.30000000000000004,
            "count": 0
           },
           {
            "bin_start": 0.30000000000000004,
            "bin_end": 0.4,
            "count": 0
           },
           {
            "bin_start": 0.4,
            "bin_end": 0.5,
            "count": 0
           },
           {
            "bin_start": 0.5,
            "bin_end": 0.6000000000000001,
            "count": 0
           },
           {
            "bin_start": 0.6000000000000001,
            "bin_end": 0.7000000000000001,
            "count": 0
           },
           {
            "bin_start": 0.7000000000000001,
            "bin_end": 0.8,
            "count": 0
           },
           {
            "bin_start": 0.8,
            "bin_end": 0.9,
            "count": 0
           },
           {
            "bin_start": 0.9,
            "bin_end": 1,
            "count": 0
           }
          ]
         }
        },
        {
         "name": "CPI",
         "dtype": "float64",
         "stats": {
          "unique_count": 2,
          "nan_count": 0,
          "min": "211.0963582",
          "max": "211.2421698",
          "histogram": [
           {
            "bin_start": 211.0963582,
            "bin_end": 211.11093936,
            "count": 1
           },
           {
            "bin_start": 211.11093936,
            "bin_end": 211.12552052,
            "count": 0
           },
           {
            "bin_start": 211.12552052,
            "bin_end": 211.14010168,
            "count": 0
           },
           {
            "bin_start": 211.14010168,
            "bin_end": 211.15468284,
            "count": 0
           },
           {
            "bin_start": 211.15468284,
            "bin_end": 211.169264,
            "count": 0
           },
           {
            "bin_start": 211.169264,
            "bin_end": 211.18384516,
            "count": 0
           },
           {
            "bin_start": 211.18384516,
            "bin_end": 211.19842632,
            "count": 0
           },
           {
            "bin_start": 211.19842632,
            "bin_end": 211.21300748,
            "count": 0
           },
           {
            "bin_start": 211.21300748,
            "bin_end": 211.22758864,
            "count": 0
           },
           {
            "bin_start": 211.22758864,
            "bin_end": 211.2421698,
            "count": 1
           }
          ]
         }
        },
        {
         "name": "Unemployment",
         "dtype": "float64",
         "stats": {
          "unique_count": 1,
          "nan_count": 0,
          "min": "8.106",
          "max": "8.106",
          "histogram": [
           {
            "bin_start": 7.606,
            "bin_end": 7.7059999999999995,
            "count": 0
           },
           {
            "bin_start": 7.7059999999999995,
            "bin_end": 7.806,
            "count": 0
           },
           {
            "bin_start": 7.806,
            "bin_end": 7.906,
            "count": 0
           },
           {
            "bin_start": 7.906,
            "bin_end": 8.006,
            "count": 0
           },
           {
            "bin_start": 8.006,
            "bin_end": 8.106,
            "count": 0
           },
           {
            "bin_start": 8.106,
            "bin_end": 8.206,
            "count": 2
           },
           {
            "bin_start": 8.206,
            "bin_end": 8.306,
            "count": 0
           },
           {
            "bin_start": 8.306,
            "bin_end": 8.406,
            "count": 0
           },
           {
            "bin_start": 8.406,
            "bin_end": 8.506,
            "count": 0
           },
           {
            "bin_start": 8.506,
            "bin_end": 8.606,
            "count": 0
           }
          ]
         }
        },
        {
         "name": "IsHoliday",
         "dtype": "bool",
         "stats": {
          "unique_count": 2,
          "nan_count": 0,
          "categories": [
           {
            "name": "False",
            "count": 1
           },
           {
            "name": "True",
            "count": 1
           }
          ]
         }
        },
        {
         "name": "_deepnote_index_column",
         "dtype": "int64"
        }
       ],
       "rows": [
        {
         "Store": 1,
         "Date": "2010-02-05",
         "Temperature": 42.31,
         "Fuel_Price": 2.572,
         "MarkDown1": "nan",
         "MarkDown2": "nan",
         "MarkDown3": "nan",
         "MarkDown4": "nan",
         "MarkDown5": "nan",
         "CPI": 211.0963582,
         "Unemployment": 8.106,
         "IsHoliday": false,
         "_deepnote_index_column": 0
        },
        {
         "Store": 1,
         "Date": "2010-02-12",
         "Temperature": 38.51,
         "Fuel_Price": 2.548,
         "MarkDown1": "nan",
         "MarkDown2": "nan",
         "MarkDown3": "nan",
         "MarkDown4": "nan",
         "MarkDown5": "nan",
         "CPI": 211.2421698,
         "Unemployment": 8.106,
         "IsHoliday": true,
         "_deepnote_index_column": 1
        }
       ]
      },
      "text/plain": "   Store        Date  Temperature  Fuel_Price  MarkDown1  MarkDown2  \\\n0      1  2010-02-05        42.31       2.572        NaN        NaN   \n1      1  2010-02-12        38.51       2.548        NaN        NaN   \n\n   MarkDown3  MarkDown4  MarkDown5         CPI  Unemployment  IsHoliday  \n0        NaN        NaN        NaN  211.096358         8.106      False  \n1        NaN        NaN        NaN  211.242170         8.106       True  ",
      "text/html": "<div>\n<style scoped>\n    .dataframe tbody tr th:only-of-type {\n        vertical-align: middle;\n    }\n\n    .dataframe tbody tr th {\n        vertical-align: top;\n    }\n\n    .dataframe thead th {\n        text-align: right;\n    }\n</style>\n<table border=\"1\" class=\"dataframe\">\n  <thead>\n    <tr style=\"text-align: right;\">\n      <th></th>\n      <th>Store</th>\n      <th>Date</th>\n      <th>Temperature</th>\n      <th>Fuel_Price</th>\n      <th>MarkDown1</th>\n      <th>MarkDown2</th>\n      <th>MarkDown3</th>\n      <th>MarkDown4</th>\n      <th>MarkDown5</th>\n      <th>CPI</th>\n      <th>Unemployment</th>\n      <th>IsHoliday</th>\n    </tr>\n  </thead>\n  <tbody>\n    <tr>\n      <th>0</th>\n      <td>1</td>\n      <td>2010-02-05</td>\n      <td>42.31</td>\n      <td>2.572</td>\n      <td>NaN</td>\n      <td>NaN</td>\n      <td>NaN</td>\n      <td>NaN</td>\n      <td>NaN</td>\n      <td>211.096358</td>\n      <td>8.106</td>\n      <td>False</td>\n    </tr>\n    <tr>\n      <th>1</th>\n      <td>1</td>\n      <td>2010-02-12</td>\n      <td>38.51</td>\n      <td>2.548</td>\n      <td>NaN</td>\n      <td>NaN</td>\n      <td>NaN</td>\n      <td>NaN</td>\n      <td>NaN</td>\n      <td>211.242170</td>\n      <td>8.106</td>\n      <td>True</td>\n    </tr>\n  </tbody>\n</table>\n</div>"
     },
     "metadata": {}
    }
   ]
  },
  {
   "cell_type": "code",
   "metadata": {
    "cell_id": "ece37eec05724095890adaf5b8c21afb",
    "tags": [],
    "deepnote_to_be_reexecuted": false,
    "source_hash": "dacdd412",
    "execution_start": 1655930720645,
    "execution_millis": 4,
    "deepnote_cell_type": "code",
    "deepnote_cell_height": 290
   },
   "source": "stores = pd.read_csv(root.joinpath('data','stores.csv'))\nstores.head(2)",
   "execution_count": 6,
   "outputs": [
    {
     "output_type": "execute_result",
     "execution_count": 6,
     "data": {
      "application/vnd.deepnote.dataframe.v3+json": {
       "column_count": 3,
       "row_count": 2,
       "columns": [
        {
         "name": "Store",
         "dtype": "int64",
         "stats": {
          "unique_count": 2,
          "nan_count": 0,
          "min": "1",
          "max": "2",
          "histogram": [
           {
            "bin_start": 1,
            "bin_end": 1.1,
            "count": 1
           },
           {
            "bin_start": 1.1,
            "bin_end": 1.2,
            "count": 0
           },
           {
            "bin_start": 1.2,
            "bin_end": 1.3,
            "count": 0
           },
           {
            "bin_start": 1.3,
            "bin_end": 1.4,
            "count": 0
           },
           {
            "bin_start": 1.4,
            "bin_end": 1.5,
            "count": 0
           },
           {
            "bin_start": 1.5,
            "bin_end": 1.6,
            "count": 0
           },
           {
            "bin_start": 1.6,
            "bin_end": 1.7000000000000002,
            "count": 0
           },
           {
            "bin_start": 1.7000000000000002,
            "bin_end": 1.8,
            "count": 0
           },
           {
            "bin_start": 1.8,
            "bin_end": 1.9,
            "count": 0
           },
           {
            "bin_start": 1.9,
            "bin_end": 2,
            "count": 1
           }
          ]
         }
        },
        {
         "name": "Type",
         "dtype": "object",
         "stats": {
          "unique_count": 1,
          "nan_count": 0,
          "categories": [
           {
            "name": "A",
            "count": 2
           }
          ]
         }
        },
        {
         "name": "Size",
         "dtype": "int64",
         "stats": {
          "unique_count": 2,
          "nan_count": 0,
          "min": "151315",
          "max": "202307",
          "histogram": [
           {
            "bin_start": 151315,
            "bin_end": 156414.2,
            "count": 1
           },
           {
            "bin_start": 156414.2,
            "bin_end": 161513.4,
            "count": 0
           },
           {
            "bin_start": 161513.4,
            "bin_end": 166612.6,
            "count": 0
           },
           {
            "bin_start": 166612.6,
            "bin_end": 171711.8,
            "count": 0
           },
           {
            "bin_start": 171711.8,
            "bin_end": 176811,
            "count": 0
           },
           {
            "bin_start": 176811,
            "bin_end": 181910.2,
            "count": 0
           },
           {
            "bin_start": 181910.2,
            "bin_end": 187009.4,
            "count": 0
           },
           {
            "bin_start": 187009.4,
            "bin_end": 192108.6,
            "count": 0
           },
           {
            "bin_start": 192108.6,
            "bin_end": 197207.8,
            "count": 0
           },
           {
            "bin_start": 197207.8,
            "bin_end": 202307,
            "count": 1
           }
          ]
         }
        },
        {
         "name": "_deepnote_index_column",
         "dtype": "int64"
        }
       ],
       "rows": [
        {
         "Store": 1,
         "Type": "A",
         "Size": 151315,
         "_deepnote_index_column": 0
        },
        {
         "Store": 2,
         "Type": "A",
         "Size": 202307,
         "_deepnote_index_column": 1
        }
       ]
      },
      "text/plain": "   Store Type    Size\n0      1    A  151315\n1      2    A  202307",
      "text/html": "<div>\n<style scoped>\n    .dataframe tbody tr th:only-of-type {\n        vertical-align: middle;\n    }\n\n    .dataframe tbody tr th {\n        vertical-align: top;\n    }\n\n    .dataframe thead th {\n        text-align: right;\n    }\n</style>\n<table border=\"1\" class=\"dataframe\">\n  <thead>\n    <tr style=\"text-align: right;\">\n      <th></th>\n      <th>Store</th>\n      <th>Type</th>\n      <th>Size</th>\n    </tr>\n  </thead>\n  <tbody>\n    <tr>\n      <th>0</th>\n      <td>1</td>\n      <td>A</td>\n      <td>151315</td>\n    </tr>\n    <tr>\n      <th>1</th>\n      <td>2</td>\n      <td>A</td>\n      <td>202307</td>\n    </tr>\n  </tbody>\n</table>\n</div>"
     },
     "metadata": {}
    }
   ]
  },
  {
   "cell_type": "code",
   "metadata": {
    "cell_id": "d50122ab3a9a48e99c0a93ee5e0d1276",
    "tags": [],
    "deepnote_to_be_reexecuted": false,
    "source_hash": "cb59537",
    "execution_start": 1655930720646,
    "execution_millis": 269,
    "deepnote_cell_type": "code",
    "deepnote_cell_height": 290
   },
   "source": "train = pd.read_csv(root.joinpath('data','train.csv'))\ntrain.head(2)",
   "execution_count": 7,
   "outputs": [
    {
     "output_type": "execute_result",
     "execution_count": 7,
     "data": {
      "application/vnd.deepnote.dataframe.v3+json": {
       "column_count": 5,
       "row_count": 2,
       "columns": [
        {
         "name": "Store",
         "dtype": "int64",
         "stats": {
          "unique_count": 1,
          "nan_count": 0,
          "min": "1",
          "max": "1",
          "histogram": [
           {
            "bin_start": 0.5,
            "bin_end": 0.6,
            "count": 0
           },
           {
            "bin_start": 0.6,
            "bin_end": 0.7,
            "count": 0
           },
           {
            "bin_start": 0.7,
            "bin_end": 0.8,
            "count": 0
           },
           {
            "bin_start": 0.8,
            "bin_end": 0.9,
            "count": 0
           },
           {
            "bin_start": 0.9,
            "bin_end": 1,
            "count": 0
           },
           {
            "bin_start": 1,
            "bin_end": 1.1,
            "count": 2
           },
           {
            "bin_start": 1.1,
            "bin_end": 1.2000000000000002,
            "count": 0
           },
           {
            "bin_start": 1.2000000000000002,
            "bin_end": 1.3,
            "count": 0
           },
           {
            "bin_start": 1.3,
            "bin_end": 1.4,
            "count": 0
           },
           {
            "bin_start": 1.4,
            "bin_end": 1.5,
            "count": 0
           }
          ]
         }
        },
        {
         "name": "Dept",
         "dtype": "int64",
         "stats": {
          "unique_count": 1,
          "nan_count": 0,
          "min": "1",
          "max": "1",
          "histogram": [
           {
            "bin_start": 0.5,
            "bin_end": 0.6,
            "count": 0
           },
           {
            "bin_start": 0.6,
            "bin_end": 0.7,
            "count": 0
           },
           {
            "bin_start": 0.7,
            "bin_end": 0.8,
            "count": 0
           },
           {
            "bin_start": 0.8,
            "bin_end": 0.9,
            "count": 0
           },
           {
            "bin_start": 0.9,
            "bin_end": 1,
            "count": 0
           },
           {
            "bin_start": 1,
            "bin_end": 1.1,
            "count": 2
           },
           {
            "bin_start": 1.1,
            "bin_end": 1.2000000000000002,
            "count": 0
           },
           {
            "bin_start": 1.2000000000000002,
            "bin_end": 1.3,
            "count": 0
           },
           {
            "bin_start": 1.3,
            "bin_end": 1.4,
            "count": 0
           },
           {
            "bin_start": 1.4,
            "bin_end": 1.5,
            "count": 0
           }
          ]
         }
        },
        {
         "name": "Date",
         "dtype": "object",
         "stats": {
          "unique_count": 2,
          "nan_count": 0,
          "categories": [
           {
            "name": "2010-02-05",
            "count": 1
           },
           {
            "name": "2010-02-12",
            "count": 1
           }
          ]
         }
        },
        {
         "name": "Weekly_Sales",
         "dtype": "float64",
         "stats": {
          "unique_count": 2,
          "nan_count": 0,
          "min": "24924.5",
          "max": "46039.49",
          "histogram": [
           {
            "bin_start": 24924.5,
            "bin_end": 27035.999,
            "count": 1
           },
           {
            "bin_start": 27035.999,
            "bin_end": 29147.498,
            "count": 0
           },
           {
            "bin_start": 29147.498,
            "bin_end": 31258.997,
            "count": 0
           },
           {
            "bin_start": 31258.997,
            "bin_end": 33370.496,
            "count": 0
           },
           {
            "bin_start": 33370.496,
            "bin_end": 35481.994999999995,
            "count": 0
           },
           {
            "bin_start": 35481.994999999995,
            "bin_end": 37593.494,
            "count": 0
           },
           {
            "bin_start": 37593.494,
            "bin_end": 39704.993,
            "count": 0
           },
           {
            "bin_start": 39704.993,
            "bin_end": 41816.492,
            "count": 0
           },
           {
            "bin_start": 41816.492,
            "bin_end": 43927.990999999995,
            "count": 0
           },
           {
            "bin_start": 43927.990999999995,
            "bin_end": 46039.49,
            "count": 1
           }
          ]
         }
        },
        {
         "name": "IsHoliday",
         "dtype": "bool",
         "stats": {
          "unique_count": 2,
          "nan_count": 0,
          "categories": [
           {
            "name": "False",
            "count": 1
           },
           {
            "name": "True",
            "count": 1
           }
          ]
         }
        },
        {
         "name": "_deepnote_index_column",
         "dtype": "int64"
        }
       ],
       "rows": [
        {
         "Store": 1,
         "Dept": 1,
         "Date": "2010-02-05",
         "Weekly_Sales": 24924.5,
         "IsHoliday": false,
         "_deepnote_index_column": 0
        },
        {
         "Store": 1,
         "Dept": 1,
         "Date": "2010-02-12",
         "Weekly_Sales": 46039.49,
         "IsHoliday": true,
         "_deepnote_index_column": 1
        }
       ]
      },
      "text/plain": "   Store  Dept        Date  Weekly_Sales  IsHoliday\n0      1     1  2010-02-05      24924.50      False\n1      1     1  2010-02-12      46039.49       True",
      "text/html": "<div>\n<style scoped>\n    .dataframe tbody tr th:only-of-type {\n        vertical-align: middle;\n    }\n\n    .dataframe tbody tr th {\n        vertical-align: top;\n    }\n\n    .dataframe thead th {\n        text-align: right;\n    }\n</style>\n<table border=\"1\" class=\"dataframe\">\n  <thead>\n    <tr style=\"text-align: right;\">\n      <th></th>\n      <th>Store</th>\n      <th>Dept</th>\n      <th>Date</th>\n      <th>Weekly_Sales</th>\n      <th>IsHoliday</th>\n    </tr>\n  </thead>\n  <tbody>\n    <tr>\n      <th>0</th>\n      <td>1</td>\n      <td>1</td>\n      <td>2010-02-05</td>\n      <td>24924.50</td>\n      <td>False</td>\n    </tr>\n    <tr>\n      <th>1</th>\n      <td>1</td>\n      <td>1</td>\n      <td>2010-02-12</td>\n      <td>46039.49</td>\n      <td>True</td>\n    </tr>\n  </tbody>\n</table>\n</div>"
     },
     "metadata": {}
    }
   ]
  },
  {
   "cell_type": "code",
   "metadata": {
    "cell_id": "1bf96f112be54dbfa88253f26699c733",
    "tags": [],
    "deepnote_to_be_reexecuted": false,
    "source_hash": "8f174e3d",
    "execution_start": 1655930720919,
    "execution_millis": 131,
    "deepnote_table_state": {
     "pageSize": 50,
     "pageIndex": 0,
     "filters": [],
     "sortBy": []
    },
    "deepnote_table_loading": false,
    "deepnote_cell_type": "code",
    "deepnote_cell_height": 290
   },
   "source": "test = pd.read_csv(root.joinpath('data','test.csv'))\ntest.head(2)",
   "execution_count": 8,
   "outputs": [
    {
     "output_type": "execute_result",
     "execution_count": 8,
     "data": {
      "application/vnd.deepnote.dataframe.v3+json": {
       "column_count": 4,
       "row_count": 2,
       "columns": [
        {
         "name": "Store",
         "dtype": "int64",
         "stats": {
          "unique_count": 1,
          "nan_count": 0,
          "min": "1",
          "max": "1",
          "histogram": [
           {
            "bin_start": 0.5,
            "bin_end": 0.6,
            "count": 0
           },
           {
            "bin_start": 0.6,
            "bin_end": 0.7,
            "count": 0
           },
           {
            "bin_start": 0.7,
            "bin_end": 0.8,
            "count": 0
           },
           {
            "bin_start": 0.8,
            "bin_end": 0.9,
            "count": 0
           },
           {
            "bin_start": 0.9,
            "bin_end": 1,
            "count": 0
           },
           {
            "bin_start": 1,
            "bin_end": 1.1,
            "count": 2
           },
           {
            "bin_start": 1.1,
            "bin_end": 1.2000000000000002,
            "count": 0
           },
           {
            "bin_start": 1.2000000000000002,
            "bin_end": 1.3,
            "count": 0
           },
           {
            "bin_start": 1.3,
            "bin_end": 1.4,
            "count": 0
           },
           {
            "bin_start": 1.4,
            "bin_end": 1.5,
            "count": 0
           }
          ]
         }
        },
        {
         "name": "Dept",
         "dtype": "int64",
         "stats": {
          "unique_count": 1,
          "nan_count": 0,
          "min": "1",
          "max": "1",
          "histogram": [
           {
            "bin_start": 0.5,
            "bin_end": 0.6,
            "count": 0
           },
           {
            "bin_start": 0.6,
            "bin_end": 0.7,
            "count": 0
           },
           {
            "bin_start": 0.7,
            "bin_end": 0.8,
            "count": 0
           },
           {
            "bin_start": 0.8,
            "bin_end": 0.9,
            "count": 0
           },
           {
            "bin_start": 0.9,
            "bin_end": 1,
            "count": 0
           },
           {
            "bin_start": 1,
            "bin_end": 1.1,
            "count": 2
           },
           {
            "bin_start": 1.1,
            "bin_end": 1.2000000000000002,
            "count": 0
           },
           {
            "bin_start": 1.2000000000000002,
            "bin_end": 1.3,
            "count": 0
           },
           {
            "bin_start": 1.3,
            "bin_end": 1.4,
            "count": 0
           },
           {
            "bin_start": 1.4,
            "bin_end": 1.5,
            "count": 0
           }
          ]
         }
        },
        {
         "name": "Date",
         "dtype": "object",
         "stats": {
          "unique_count": 2,
          "nan_count": 0,
          "categories": [
           {
            "name": "2012-11-02",
            "count": 1
           },
           {
            "name": "2012-11-09",
            "count": 1
           }
          ]
         }
        },
        {
         "name": "IsHoliday",
         "dtype": "bool",
         "stats": {
          "unique_count": 1,
          "nan_count": 0,
          "categories": [
           {
            "name": "False",
            "count": 2
           }
          ]
         }
        },
        {
         "name": "_deepnote_index_column",
         "dtype": "int64"
        }
       ],
       "rows": [
        {
         "Store": 1,
         "Dept": 1,
         "Date": "2012-11-02",
         "IsHoliday": false,
         "_deepnote_index_column": 0
        },
        {
         "Store": 1,
         "Dept": 1,
         "Date": "2012-11-09",
         "IsHoliday": false,
         "_deepnote_index_column": 1
        }
       ]
      },
      "text/plain": "   Store  Dept        Date  IsHoliday\n0      1     1  2012-11-02      False\n1      1     1  2012-11-09      False",
      "text/html": "<div>\n<style scoped>\n    .dataframe tbody tr th:only-of-type {\n        vertical-align: middle;\n    }\n\n    .dataframe tbody tr th {\n        vertical-align: top;\n    }\n\n    .dataframe thead th {\n        text-align: right;\n    }\n</style>\n<table border=\"1\" class=\"dataframe\">\n  <thead>\n    <tr style=\"text-align: right;\">\n      <th></th>\n      <th>Store</th>\n      <th>Dept</th>\n      <th>Date</th>\n      <th>IsHoliday</th>\n    </tr>\n  </thead>\n  <tbody>\n    <tr>\n      <th>0</th>\n      <td>1</td>\n      <td>1</td>\n      <td>2012-11-02</td>\n      <td>False</td>\n    </tr>\n    <tr>\n      <th>1</th>\n      <td>1</td>\n      <td>1</td>\n      <td>2012-11-09</td>\n      <td>False</td>\n    </tr>\n  </tbody>\n</table>\n</div>"
     },
     "metadata": {}
    }
   ]
  },
  {
   "cell_type": "markdown",
   "source": "## data cleaning",
   "metadata": {
    "cell_id": "3488557add654a1a8175250cc47b2e63",
    "tags": [],
    "deepnote_cell_type": "markdown",
    "deepnote_cell_height": 70
   }
  },
  {
   "cell_type": "markdown",
   "source": "### nan filing",
   "metadata": {
    "cell_id": "708db0e2876c4ddd8c7736f23428e3b6",
    "tags": [],
    "deepnote_cell_type": "markdown",
    "deepnote_cell_height": 62
   }
  },
  {
   "cell_type": "code",
   "metadata": {
    "cell_id": "6c5e9ddbfca44f369b30078e134c7817",
    "tags": [],
    "deepnote_to_be_reexecuted": false,
    "source_hash": "64e1",
    "execution_start": 1655930721049,
    "execution_millis": 2,
    "deepnote_cell_type": "code",
    "deepnote_cell_height": 310
   },
   "source": "stores['Store'] = stores['Store'].astype('object')\nstores.info()",
   "execution_count": 9,
   "outputs": [
    {
     "name": "stdout",
     "text": "<class 'pandas.core.frame.DataFrame'>\nRangeIndex: 45 entries, 0 to 44\nData columns (total 3 columns):\n #   Column  Non-Null Count  Dtype \n---  ------  --------------  ----- \n 0   Store   45 non-null     object\n 1   Type    45 non-null     object\n 2   Size    45 non-null     int64 \ndtypes: int64(1), object(2)\nmemory usage: 1.2+ KB\n",
     "output_type": "stream"
    }
   ]
  },
  {
   "cell_type": "code",
   "metadata": {
    "cell_id": "52b4b7ec09a04b6a9a386bfd14299049",
    "tags": [],
    "deepnote_to_be_reexecuted": false,
    "source_hash": "bad8eabb",
    "execution_start": 1655930721091,
    "execution_millis": 833,
    "deepnote_cell_type": "code",
    "deepnote_cell_height": 508
   },
   "source": "features['Store'] = features['Store'].astype('object')\nfeatures['Date'] = features['Date'].apply(pd.to_datetime)\nfeatures.info()",
   "execution_count": 10,
   "outputs": [
    {
     "name": "stdout",
     "text": "<class 'pandas.core.frame.DataFrame'>\nRangeIndex: 8190 entries, 0 to 8189\nData columns (total 12 columns):\n #   Column        Non-Null Count  Dtype         \n---  ------        --------------  -----         \n 0   Store         8190 non-null   object        \n 1   Date          8190 non-null   datetime64[ns]\n 2   Temperature   8190 non-null   float64       \n 3   Fuel_Price    8190 non-null   float64       \n 4   MarkDown1     4032 non-null   float64       \n 5   MarkDown2     2921 non-null   float64       \n 6   MarkDown3     3613 non-null   float64       \n 7   MarkDown4     3464 non-null   float64       \n 8   MarkDown5     4050 non-null   float64       \n 9   CPI           7605 non-null   float64       \n 10  Unemployment  7605 non-null   float64       \n 11  IsHoliday     8190 non-null   bool          \ndtypes: bool(1), datetime64[ns](1), float64(9), object(1)\nmemory usage: 712.0+ KB\n",
     "output_type": "stream"
    }
   ]
  },
  {
   "cell_type": "code",
   "metadata": {
    "cell_id": "acc66ecd140d4c3bbab1b0eead2d262f",
    "tags": [],
    "deepnote_to_be_reexecuted": false,
    "source_hash": "9987040b",
    "execution_start": 1655930721933,
    "execution_millis": 35831,
    "deepnote_cell_type": "code",
    "deepnote_cell_height": 350
   },
   "source": "train['Date'] = train['Date'].apply(pd.to_datetime)\ntrain.info()",
   "execution_count": 11,
   "outputs": [
    {
     "name": "stdout",
     "text": "<class 'pandas.core.frame.DataFrame'>\nRangeIndex: 421570 entries, 0 to 421569\nData columns (total 5 columns):\n #   Column        Non-Null Count   Dtype         \n---  ------        --------------   -----         \n 0   Store         421570 non-null  int64         \n 1   Dept          421570 non-null  int64         \n 2   Date          421570 non-null  datetime64[ns]\n 3   Weekly_Sales  421570 non-null  float64       \n 4   IsHoliday     421570 non-null  bool          \ndtypes: bool(1), datetime64[ns](1), float64(1), int64(2)\nmemory usage: 13.3 MB\n",
     "output_type": "stream"
    }
   ]
  },
  {
   "cell_type": "code",
   "metadata": {
    "cell_id": "72499b6d224f459cbcea2565418e40e3",
    "tags": [],
    "deepnote_to_be_reexecuted": false,
    "source_hash": "144d56f1",
    "execution_start": 1655930757762,
    "execution_millis": 4,
    "deepnote_cell_type": "code",
    "deepnote_cell_height": 616
   },
   "source": "features_filled = features.copy(deep=True)\n\nfeatures_filled[['MarkDown1','MarkDown2','MarkDown3','MarkDown4','MarkDown5']] = features_filled[['MarkDown1','MarkDown2','MarkDown3','MarkDown4','MarkDown5']].fillna(0)\n\nfor column in ['CPI','Unemployment']:\n    mean_value = features_filled[column].mean()\n    features_filled[column] = features_filled[column].fillna(mean_value)\n\nfeatures_filled.info()",
   "execution_count": 12,
   "outputs": [
    {
     "name": "stdout",
     "text": "<class 'pandas.core.frame.DataFrame'>\nRangeIndex: 8190 entries, 0 to 8189\nData columns (total 12 columns):\n #   Column        Non-Null Count  Dtype         \n---  ------        --------------  -----         \n 0   Store         8190 non-null   object        \n 1   Date          8190 non-null   datetime64[ns]\n 2   Temperature   8190 non-null   float64       \n 3   Fuel_Price    8190 non-null   float64       \n 4   MarkDown1     8190 non-null   float64       \n 5   MarkDown2     8190 non-null   float64       \n 6   MarkDown3     8190 non-null   float64       \n 7   MarkDown4     8190 non-null   float64       \n 8   MarkDown5     8190 non-null   float64       \n 9   CPI           8190 non-null   float64       \n 10  Unemployment  8190 non-null   float64       \n 11  IsHoliday     8190 non-null   bool          \ndtypes: bool(1), datetime64[ns](1), float64(9), object(1)\nmemory usage: 712.0+ KB\n",
     "output_type": "stream"
    }
   ]
  },
  {
   "cell_type": "code",
   "metadata": {
    "cell_id": "c69bf739cfc944c7b09c83ea2c4725da",
    "tags": [],
    "deepnote_to_be_reexecuted": false,
    "source_hash": "126817cb",
    "execution_start": 1655930757763,
    "execution_millis": 124,
    "deepnote_cell_type": "code",
    "deepnote_cell_height": 676,
    "deepnote_output_heights": [
     78.796875
    ]
   },
   "source": "test.Date = test.Date.astype('datetime64[ns]')\nfeatures_filled.Date = features_filled.Date.astype('datetime64[ns]')\n\ntrain_merge = train.drop(columns=['IsHoliday','Dept']).groupby(['Store','Date']).sum().reset_index()\n\nfeaturesFill_stores_merge = pd.merge(features_filled,stores,on='Store')\ndf_filled = pd.merge(featuresFill_stores_merge,train_merge,on=['Store','Date'],how='right')\n\ndf_filled.info()",
   "execution_count": 13,
   "outputs": [
    {
     "name": "stdout",
     "text": "<class 'pandas.core.frame.DataFrame'>\nInt64Index: 6435 entries, 0 to 6434\nData columns (total 15 columns):\n #   Column        Non-Null Count  Dtype         \n---  ------        --------------  -----         \n 0   Store         6435 non-null   object        \n 1   Date          6435 non-null   datetime64[ns]\n 2   Temperature   6435 non-null   float64       \n 3   Fuel_Price    6435 non-null   float64       \n 4   MarkDown1     6435 non-null   float64       \n 5   MarkDown2     6435 non-null   float64       \n 6   MarkDown3     6435 non-null   float64       \n 7   MarkDown4     6435 non-null   float64       \n 8   MarkDown5     6435 non-null   float64       \n 9   CPI           6435 non-null   float64       \n 10  Unemployment  6435 non-null   float64       \n 11  IsHoliday     6435 non-null   bool          \n 12  Type          6435 non-null   object        \n 13  Size          6435 non-null   int64         \n 14  Weekly_Sales  6435 non-null   float64       \ndtypes: bool(1), datetime64[ns](1), float64(10), int64(1), object(2)\nmemory usage: 760.4+ KB\n",
     "output_type": "stream"
    }
   ]
  },
  {
   "cell_type": "code",
   "metadata": {
    "cell_id": "91c1ee3f0de84c129f3862ed26656a74",
    "tags": [],
    "deepnote_to_be_reexecuted": false,
    "source_hash": "8b02492f",
    "execution_start": 1655930757870,
    "execution_millis": 121,
    "deepnote_cell_type": "code",
    "deepnote_cell_height": 324.796875
   },
   "source": "features_stores_merge = pd.merge(features,stores,on='Store')\ndf_raw = pd.merge(features_stores_merge,train_merge,how='outer',on=['Store','Date'])\ndf_raw.head(2)",
   "execution_count": 14,
   "outputs": [
    {
     "output_type": "execute_result",
     "execution_count": 14,
     "data": {
      "application/vnd.deepnote.dataframe.v3+json": {
       "column_count": 15,
       "row_count": 2,
       "columns": [
        {
         "name": "Store",
         "dtype": "object",
         "stats": {
          "unique_count": 1,
          "nan_count": 0,
          "categories": [
           {
            "name": "1",
            "count": 2
           }
          ]
         }
        },
        {
         "name": "Date",
         "dtype": "datetime64[ns]",
         "stats": {
          "unique_count": 2,
          "nan_count": 0,
          "min": "2010-02-05 00:00:00",
          "max": "2010-02-12 00:00:00",
          "histogram": [
           {
            "bin_start": 1265328000000000000,
            "bin_end": 1265388480000000000,
            "count": 1
           },
           {
            "bin_start": 1265388480000000000,
            "bin_end": 1265448960000000000,
            "count": 0
           },
           {
            "bin_start": 1265448960000000000,
            "bin_end": 1265509440000000000,
            "count": 0
           },
           {
            "bin_start": 1265509440000000000,
            "bin_end": 1265569920000000000,
            "count": 0
           },
           {
            "bin_start": 1265569920000000000,
            "bin_end": 1265630400000000000,
            "count": 0
           },
           {
            "bin_start": 1265630400000000000,
            "bin_end": 1265690880000000000,
            "count": 0
           },
           {
            "bin_start": 1265690880000000000,
            "bin_end": 1265751360000000000,
            "count": 0
           },
           {
            "bin_start": 1265751360000000000,
            "bin_end": 1265811840000000000,
            "count": 0
           },
           {
            "bin_start": 1265811840000000000,
            "bin_end": 1265872320000000000,
            "count": 0
           },
           {
            "bin_start": 1265872320000000000,
            "bin_end": 1265932800000000000,
            "count": 1
           }
          ]
         }
        },
        {
         "name": "Temperature",
         "dtype": "float64",
         "stats": {
          "unique_count": 2,
          "nan_count": 0,
          "min": "38.51",
          "max": "42.31",
          "histogram": [
           {
            "bin_start": 38.51,
            "bin_end": 38.89,
            "count": 1
           },
           {
            "bin_start": 38.89,
            "bin_end": 39.269999999999996,
            "count": 0
           },
           {
            "bin_start": 39.269999999999996,
            "bin_end": 39.65,
            "count": 0
           },
           {
            "bin_start": 39.65,
            "bin_end": 40.03,
            "count": 0
           },
           {
            "bin_start": 40.03,
            "bin_end": 40.41,
            "count": 0
           },
           {
            "bin_start": 40.41,
            "bin_end": 40.79,
            "count": 0
           },
           {
            "bin_start": 40.79,
            "bin_end": 41.17,
            "count": 0
           },
           {
            "bin_start": 41.17,
            "bin_end": 41.550000000000004,
            "count": 0
           },
           {
            "bin_start": 41.550000000000004,
            "bin_end": 41.93,
            "count": 0
           },
           {
            "bin_start": 41.93,
            "bin_end": 42.31,
            "count": 1
           }
          ]
         }
        },
        {
         "name": "Fuel_Price",
         "dtype": "float64",
         "stats": {
          "unique_count": 2,
          "nan_count": 0,
          "min": "2.548",
          "max": "2.572",
          "histogram": [
           {
            "bin_start": 2.548,
            "bin_end": 2.5504000000000002,
            "count": 1
           },
           {
            "bin_start": 2.5504000000000002,
            "bin_end": 2.5528,
            "count": 0
           },
           {
            "bin_start": 2.5528,
            "bin_end": 2.5552,
            "count": 0
           },
           {
            "bin_start": 2.5552,
            "bin_end": 2.5576,
            "count": 0
           },
           {
            "bin_start": 2.5576,
            "bin_end": 2.56,
            "count": 0
           },
           {
            "bin_start": 2.56,
            "bin_end": 2.5624000000000002,
            "count": 0
           },
           {
            "bin_start": 2.5624000000000002,
            "bin_end": 2.5648,
            "count": 0
           },
           {
            "bin_start": 2.5648,
            "bin_end": 2.5672,
            "count": 0
           },
           {
            "bin_start": 2.5672,
            "bin_end": 2.5696,
            "count": 0
           },
           {
            "bin_start": 2.5696,
            "bin_end": 2.572,
            "count": 1
           }
          ]
         }
        },
        {
         "name": "MarkDown1",
         "dtype": "float64",
         "stats": {
          "unique_count": 0,
          "nan_count": 2,
          "min": null,
          "max": null,
          "histogram": [
           {
            "bin_start": 0,
            "bin_end": 0.1,
            "count": 0
           },
           {
            "bin_start": 0.1,
            "bin_end": 0.2,
            "count": 0
           },
           {
            "bin_start": 0.2,
            "bin_end": 0.30000000000000004,
            "count": 0
           },
           {
            "bin_start": 0.30000000000000004,
            "bin_end": 0.4,
            "count": 0
           },
           {
            "bin_start": 0.4,
            "bin_end": 0.5,
            "count": 0
           },
           {
            "bin_start": 0.5,
            "bin_end": 0.6000000000000001,
            "count": 0
           },
           {
            "bin_start": 0.6000000000000001,
            "bin_end": 0.7000000000000001,
            "count": 0
           },
           {
            "bin_start": 0.7000000000000001,
            "bin_end": 0.8,
            "count": 0
           },
           {
            "bin_start": 0.8,
            "bin_end": 0.9,
            "count": 0
           },
           {
            "bin_start": 0.9,
            "bin_end": 1,
            "count": 0
           }
          ]
         }
        },
        {
         "name": "MarkDown2",
         "dtype": "float64",
         "stats": {
          "unique_count": 0,
          "nan_count": 2,
          "min": null,
          "max": null,
          "histogram": [
           {
            "bin_start": 0,
            "bin_end": 0.1,
            "count": 0
           },
           {
            "bin_start": 0.1,
            "bin_end": 0.2,
            "count": 0
           },
           {
            "bin_start": 0.2,
            "bin_end": 0.30000000000000004,
            "count": 0
           },
           {
            "bin_start": 0.30000000000000004,
            "bin_end": 0.4,
            "count": 0
           },
           {
            "bin_start": 0.4,
            "bin_end": 0.5,
            "count": 0
           },
           {
            "bin_start": 0.5,
            "bin_end": 0.6000000000000001,
            "count": 0
           },
           {
            "bin_start": 0.6000000000000001,
            "bin_end": 0.7000000000000001,
            "count": 0
           },
           {
            "bin_start": 0.7000000000000001,
            "bin_end": 0.8,
            "count": 0
           },
           {
            "bin_start": 0.8,
            "bin_end": 0.9,
            "count": 0
           },
           {
            "bin_start": 0.9,
            "bin_end": 1,
            "count": 0
           }
          ]
         }
        },
        {
         "name": "MarkDown3",
         "dtype": "float64",
         "stats": {
          "unique_count": 0,
          "nan_count": 2,
          "min": null,
          "max": null,
          "histogram": [
           {
            "bin_start": 0,
            "bin_end": 0.1,
            "count": 0
           },
           {
            "bin_start": 0.1,
            "bin_end": 0.2,
            "count": 0
           },
           {
            "bin_start": 0.2,
            "bin_end": 0.30000000000000004,
            "count": 0
           },
           {
            "bin_start": 0.30000000000000004,
            "bin_end": 0.4,
            "count": 0
           },
           {
            "bin_start": 0.4,
            "bin_end": 0.5,
            "count": 0
           },
           {
            "bin_start": 0.5,
            "bin_end": 0.6000000000000001,
            "count": 0
           },
           {
            "bin_start": 0.6000000000000001,
            "bin_end": 0.7000000000000001,
            "count": 0
           },
           {
            "bin_start": 0.7000000000000001,
            "bin_end": 0.8,
            "count": 0
           },
           {
            "bin_start": 0.8,
            "bin_end": 0.9,
            "count": 0
           },
           {
            "bin_start": 0.9,
            "bin_end": 1,
            "count": 0
           }
          ]
         }
        },
        {
         "name": "MarkDown4",
         "dtype": "float64",
         "stats": {
          "unique_count": 0,
          "nan_count": 2,
          "min": null,
          "max": null,
          "histogram": [
           {
            "bin_start": 0,
            "bin_end": 0.1,
            "count": 0
           },
           {
            "bin_start": 0.1,
            "bin_end": 0.2,
            "count": 0
           },
           {
            "bin_start": 0.2,
            "bin_end": 0.30000000000000004,
            "count": 0
           },
           {
            "bin_start": 0.30000000000000004,
            "bin_end": 0.4,
            "count": 0
           },
           {
            "bin_start": 0.4,
            "bin_end": 0.5,
            "count": 0
           },
           {
            "bin_start": 0.5,
            "bin_end": 0.6000000000000001,
            "count": 0
           },
           {
            "bin_start": 0.6000000000000001,
            "bin_end": 0.7000000000000001,
            "count": 0
           },
           {
            "bin_start": 0.7000000000000001,
            "bin_end": 0.8,
            "count": 0
           },
           {
            "bin_start": 0.8,
            "bin_end": 0.9,
            "count": 0
           },
           {
            "bin_start": 0.9,
            "bin_end": 1,
            "count": 0
           }
          ]
         }
        },
        {
         "name": "MarkDown5",
         "dtype": "float64",
         "stats": {
          "unique_count": 0,
          "nan_count": 2,
          "min": null,
          "max": null,
          "histogram": [
           {
            "bin_start": 0,
            "bin_end": 0.1,
            "count": 0
           },
           {
            "bin_start": 0.1,
            "bin_end": 0.2,
            "count": 0
           },
           {
            "bin_start": 0.2,
            "bin_end": 0.30000000000000004,
            "count": 0
           },
           {
            "bin_start": 0.30000000000000004,
            "bin_end": 0.4,
            "count": 0
           },
           {
            "bin_start": 0.4,
            "bin_end": 0.5,
            "count": 0
           },
           {
            "bin_start": 0.5,
            "bin_end": 0.6000000000000001,
            "count": 0
           },
           {
            "bin_start": 0.6000000000000001,
            "bin_end": 0.7000000000000001,
            "count": 0
           },
           {
            "bin_start": 0.7000000000000001,
            "bin_end": 0.8,
            "count": 0
           },
           {
            "bin_start": 0.8,
            "bin_end": 0.9,
            "count": 0
           },
           {
            "bin_start": 0.9,
            "bin_end": 1,
            "count": 0
           }
          ]
         }
        },
        {
         "name": "CPI",
         "dtype": "float64",
         "stats": {
          "unique_count": 2,
          "nan_count": 0,
          "min": "211.0963582",
          "max": "211.2421698",
          "histogram": [
           {
            "bin_start": 211.0963582,
            "bin_end": 211.11093936,
            "count": 1
           },
           {
            "bin_start": 211.11093936,
            "bin_end": 211.12552052,
            "count": 0
           },
           {
            "bin_start": 211.12552052,
            "bin_end": 211.14010168,
            "count": 0
           },
           {
            "bin_start": 211.14010168,
            "bin_end": 211.15468284,
            "count": 0
           },
           {
            "bin_start": 211.15468284,
            "bin_end": 211.169264,
            "count": 0
           },
           {
            "bin_start": 211.169264,
            "bin_end": 211.18384516,
            "count": 0
           },
           {
            "bin_start": 211.18384516,
            "bin_end": 211.19842632,
            "count": 0
           },
           {
            "bin_start": 211.19842632,
            "bin_end": 211.21300748,
            "count": 0
           },
           {
            "bin_start": 211.21300748,
            "bin_end": 211.22758864,
            "count": 0
           },
           {
            "bin_start": 211.22758864,
            "bin_end": 211.2421698,
            "count": 1
           }
          ]
         }
        },
        {
         "name": "Unemployment",
         "dtype": "float64",
         "stats": {
          "unique_count": 1,
          "nan_count": 0,
          "min": "8.106",
          "max": "8.106",
          "histogram": [
           {
            "bin_start": 7.606,
            "bin_end": 7.7059999999999995,
            "count": 0
           },
           {
            "bin_start": 7.7059999999999995,
            "bin_end": 7.806,
            "count": 0
           },
           {
            "bin_start": 7.806,
            "bin_end": 7.906,
            "count": 0
           },
           {
            "bin_start": 7.906,
            "bin_end": 8.006,
            "count": 0
           },
           {
            "bin_start": 8.006,
            "bin_end": 8.106,
            "count": 0
           },
           {
            "bin_start": 8.106,
            "bin_end": 8.206,
            "count": 2
           },
           {
            "bin_start": 8.206,
            "bin_end": 8.306,
            "count": 0
           },
           {
            "bin_start": 8.306,
            "bin_end": 8.406,
            "count": 0
           },
           {
            "bin_start": 8.406,
            "bin_end": 8.506,
            "count": 0
           },
           {
            "bin_start": 8.506,
            "bin_end": 8.606,
            "count": 0
           }
          ]
         }
        },
        {
         "name": "IsHoliday",
         "dtype": "bool",
         "stats": {
          "unique_count": 2,
          "nan_count": 0,
          "categories": [
           {
            "name": "False",
            "count": 1
           },
           {
            "name": "True",
            "count": 1
           }
          ]
         }
        },
        {
         "name": "Type",
         "dtype": "object",
         "stats": {
          "unique_count": 1,
          "nan_count": 0,
          "categories": [
           {
            "name": "A",
            "count": 2
           }
          ]
         }
        },
        {
         "name": "Size",
         "dtype": "int64",
         "stats": {
          "unique_count": 1,
          "nan_count": 0,
          "min": "151315",
          "max": "151315",
          "histogram": [
           {
            "bin_start": 151314.5,
            "bin_end": 151314.6,
            "count": 0
           },
           {
            "bin_start": 151314.6,
            "bin_end": 151314.7,
            "count": 0
           },
           {
            "bin_start": 151314.7,
            "bin_end": 151314.8,
            "count": 0
           },
           {
            "bin_start": 151314.8,
            "bin_end": 151314.9,
            "count": 0
           },
           {
            "bin_start": 151314.9,
            "bin_end": 151315,
            "count": 0
           },
           {
            "bin_start": 151315,
            "bin_end": 151315.1,
            "count": 2
           },
           {
            "bin_start": 151315.1,
            "bin_end": 151315.2,
            "count": 0
           },
           {
            "bin_start": 151315.2,
            "bin_end": 151315.3,
            "count": 0
           },
           {
            "bin_start": 151315.3,
            "bin_end": 151315.4,
            "count": 0
           },
           {
            "bin_start": 151315.4,
            "bin_end": 151315.5,
            "count": 0
           }
          ]
         }
        },
        {
         "name": "Weekly_Sales",
         "dtype": "float64",
         "stats": {
          "unique_count": 2,
          "nan_count": 0,
          "min": "1641957.4399999997",
          "max": "1643690.9",
          "histogram": [
           {
            "bin_start": 1641957.4399999997,
            "bin_end": 1642130.7859999998,
            "count": 1
           },
           {
            "bin_start": 1642130.7859999998,
            "bin_end": 1642304.1319999998,
            "count": 0
           },
           {
            "bin_start": 1642304.1319999998,
            "bin_end": 1642477.4779999997,
            "count": 0
           },
           {
            "bin_start": 1642477.4779999997,
            "bin_end": 1642650.8239999998,
            "count": 0
           },
           {
            "bin_start": 1642650.8239999998,
            "bin_end": 1642824.17,
            "count": 0
           },
           {
            "bin_start": 1642824.17,
            "bin_end": 1642997.5159999998,
            "count": 0
           },
           {
            "bin_start": 1642997.5159999998,
            "bin_end": 1643170.8619999997,
            "count": 0
           },
           {
            "bin_start": 1643170.8619999997,
            "bin_end": 1643344.2079999999,
            "count": 0
           },
           {
            "bin_start": 1643344.2079999999,
            "bin_end": 1643517.554,
            "count": 0
           },
           {
            "bin_start": 1643517.554,
            "bin_end": 1643690.9,
            "count": 1
           }
          ]
         }
        },
        {
         "name": "_deepnote_index_column",
         "dtype": "int64"
        }
       ],
       "rows": [
        {
         "Store": "1",
         "Date": "2010-02-05T00:00:00.000000",
         "Temperature": 42.31,
         "Fuel_Price": 2.572,
         "MarkDown1": "nan",
         "MarkDown2": "nan",
         "MarkDown3": "nan",
         "MarkDown4": "nan",
         "MarkDown5": "nan",
         "CPI": 211.0963582,
         "Unemployment": 8.106,
         "IsHoliday": false,
         "Type": "A",
         "Size": 151315,
         "Weekly_Sales": 1643690.9,
         "_deepnote_index_column": 0
        },
        {
         "Store": "1",
         "Date": "2010-02-12T00:00:00.000000",
         "Temperature": 38.51,
         "Fuel_Price": 2.548,
         "MarkDown1": "nan",
         "MarkDown2": "nan",
         "MarkDown3": "nan",
         "MarkDown4": "nan",
         "MarkDown5": "nan",
         "CPI": 211.2421698,
         "Unemployment": 8.106,
         "IsHoliday": true,
         "Type": "A",
         "Size": 151315,
         "Weekly_Sales": 1641957.4399999997,
         "_deepnote_index_column": 1
        }
       ]
      },
      "text/plain": "  Store       Date  Temperature  Fuel_Price  MarkDown1  MarkDown2  MarkDown3  \\\n0     1 2010-02-05        42.31       2.572        NaN        NaN        NaN   \n1     1 2010-02-12        38.51       2.548        NaN        NaN        NaN   \n\n   MarkDown4  MarkDown5         CPI  Unemployment  IsHoliday Type    Size  \\\n0        NaN        NaN  211.096358         8.106      False    A  151315   \n1        NaN        NaN  211.242170         8.106       True    A  151315   \n\n   Weekly_Sales  \n0    1643690.90  \n1    1641957.44  ",
      "text/html": "<div>\n<style scoped>\n    .dataframe tbody tr th:only-of-type {\n        vertical-align: middle;\n    }\n\n    .dataframe tbody tr th {\n        vertical-align: top;\n    }\n\n    .dataframe thead th {\n        text-align: right;\n    }\n</style>\n<table border=\"1\" class=\"dataframe\">\n  <thead>\n    <tr style=\"text-align: right;\">\n      <th></th>\n      <th>Store</th>\n      <th>Date</th>\n      <th>Temperature</th>\n      <th>Fuel_Price</th>\n      <th>MarkDown1</th>\n      <th>MarkDown2</th>\n      <th>MarkDown3</th>\n      <th>MarkDown4</th>\n      <th>MarkDown5</th>\n      <th>CPI</th>\n      <th>Unemployment</th>\n      <th>IsHoliday</th>\n      <th>Type</th>\n      <th>Size</th>\n      <th>Weekly_Sales</th>\n    </tr>\n  </thead>\n  <tbody>\n    <tr>\n      <th>0</th>\n      <td>1</td>\n      <td>2010-02-05</td>\n      <td>42.31</td>\n      <td>2.572</td>\n      <td>NaN</td>\n      <td>NaN</td>\n      <td>NaN</td>\n      <td>NaN</td>\n      <td>NaN</td>\n      <td>211.096358</td>\n      <td>8.106</td>\n      <td>False</td>\n      <td>A</td>\n      <td>151315</td>\n      <td>1643690.90</td>\n    </tr>\n    <tr>\n      <th>1</th>\n      <td>1</td>\n      <td>2010-02-12</td>\n      <td>38.51</td>\n      <td>2.548</td>\n      <td>NaN</td>\n      <td>NaN</td>\n      <td>NaN</td>\n      <td>NaN</td>\n      <td>NaN</td>\n      <td>211.242170</td>\n      <td>8.106</td>\n      <td>True</td>\n      <td>A</td>\n      <td>151315</td>\n      <td>1641957.44</td>\n    </tr>\n  </tbody>\n</table>\n</div>"
     },
     "metadata": {}
    }
   ]
  },
  {
   "cell_type": "markdown",
   "source": "¿is the nan managing correct?\n-\n\n- in the markdowns when there is a nan value it means that there is no descount so its makes sence to filled with 0\n- in the other features the distribution fits better when they are filled with the avarage value",
   "metadata": {
    "cell_id": "dd628a2b38144a92bdf56ce8a680cf76",
    "tags": [],
    "deepnote_cell_type": "markdown",
    "deepnote_cell_height": 147.796875
   }
  },
  {
   "cell_type": "code",
   "metadata": {
    "cell_id": "d1c43179adb1412e84414c0fb074e38d",
    "tags": [],
    "deepnote_to_be_reexecuted": false,
    "source_hash": "d90a3b3b",
    "execution_start": 1655930757989,
    "execution_millis": 4435,
    "deepnote_cell_type": "code",
    "deepnote_cell_height": 890,
    "deepnote_output_heights": [
     595
    ]
   },
   "source": "fig,axs = plt.subplots(3,3,figsize=(12,8))\nplt.tight_layout(w_pad=4)\ncolumns = ['MarkDown1','MarkDown2','MarkDown3','MarkDown4','MarkDown5','CPI','Unemployment','Weekly_Sales']\n\nfor feature, ax in zip(columns,axs.flatten()):    \n    df_raw[feature].plot(kind='kde',label=f'raw',ax=ax,alpha=0.7)\n    df_filled[feature].plot(kind='kde',label=f'filled',ax=ax,alpha=0.7)\n\n    if feature.startswith('MarkDown'):\n        ax.set_xlim(-10000,15000)\n    ax.set_title(feature)\n    ax.legend(loc=\"upper right\")",
   "execution_count": 15,
   "outputs": [
    {
     "data": {
      "text/plain": "<Figure size 864x576 with 9 Axes>",
      "image/png": "[encoded data removed]"
     },
     "metadata": {
      "needs_background": "light",
      "image/png": {
       "width": 903,
       "height": 593
      }
     },
     "output_type": "display_data"
    }
   ]
  },
  {
   "cell_type": "markdown",
   "source": "### outlier filter",
   "metadata": {
    "cell_id": "d5b459f4d02e42619d4bf497a1b68c7d",
    "tags": [],
    "deepnote_cell_type": "markdown",
    "deepnote_cell_height": 62
   }
  },
  {
   "cell_type": "code",
   "metadata": {
    "cell_id": "9e718a8f64ff4a69a9d1f78b3a644c70",
    "tags": [],
    "deepnote_to_be_reexecuted": false,
    "source_hash": "9161d7fd",
    "execution_start": 1655930878138,
    "execution_millis": 2552,
    "owner_user_id": "7d7648bd-030c-4878-9599-6316a762b748",
    "deepnote_cell_type": "code",
    "deepnote_cell_height": 1152,
    "deepnote_output_heights": [
     582,
     582
    ]
   },
   "source": "fig,axs = plt.subplots(3,3,figsize=(12,8),sharey=False)\nplt.tight_layout(w_pad=4)\ncolumn = set(df_filled.columns)-set(['Date','type'])\n\nfor feature, ax in zip(columns,axs.flatten()): \n    data = pd.concat([df_filled[feature],df_raw[feature]],axis=1)   \n    data.columns = ['filled','raw']\n\n    data.plot(kind='box',label=f'filled',ax=ax)\n    ax.set_title(feature)",
   "execution_count": 22,
   "outputs": [
    {
     "name": "stderr",
     "text": "/root/venv/lib/python3.9/site-packages/matplotlib/cbook/__init__.py:1376: VisibleDeprecationWarning: Creating an ndarray from ragged nested sequences (which is a list-or-tuple of lists-or-tuples-or ndarrays with different lengths or shapes) is deprecated. If you meant to do this, you must specify 'dtype=object' when creating the ndarray.\n  X = np.atleast_1d(X.T if isinstance(X, np.ndarray) else np.asarray(X))\n/root/venv/lib/python3.9/site-packages/matplotlib/cbook/__init__.py:1376: VisibleDeprecationWarning: Creating an ndarray from ragged nested sequences (which is a list-or-tuple of lists-or-tuples-or ndarrays with different lengths or shapes) is deprecated. If you meant to do this, you must specify 'dtype=object' when creating the ndarray.\n  X = np.atleast_1d(X.T if isinstance(X, np.ndarray) else np.asarray(X))\n/root/venv/lib/python3.9/site-packages/matplotlib/cbook/__init__.py:1376: VisibleDeprecationWarning: Creating an ndarray from ragged nested sequences (which is a list-or-tuple of lists-or-tuples-or ndarrays with different lengths or shapes) is deprecated. If you meant to do this, you must specify 'dtype=object' when creating the ndarray.\n  X = np.atleast_1d(X.T if isinstance(X, np.ndarray) else np.asarray(X))\n/root/venv/lib/python3.9/site-packages/matplotlib/cbook/__init__.py:1376: VisibleDeprecationWarning: Creating an ndarray from ragged nested sequences (which is a list-or-tuple of lists-or-tuples-or ndarrays with different lengths or shapes) is deprecated. If you meant to do this, you must specify 'dtype=object' when creating the ndarray.\n  X = np.atleast_1d(X.T if isinstance(X, np.ndarray) else np.asarray(X))\n/root/venv/lib/python3.9/site-packages/matplotlib/cbook/__init__.py:1376: VisibleDeprecationWarning: Creating an ndarray from ragged nested sequences (which is a list-or-tuple of lists-or-tuples-or ndarrays with different lengths or shapes) is deprecated. If you meant to do this, you must specify 'dtype=object' when creating the ndarray.\n  X = np.atleast_1d(X.T if isinstance(X, np.ndarray) else np.asarray(X))\n/root/venv/lib/python3.9/site-packages/matplotlib/cbook/__init__.py:1376: VisibleDeprecationWarning: Creating an ndarray from ragged nested sequences (which is a list-or-tuple of lists-or-tuples-or ndarrays with different lengths or shapes) is deprecated. If you meant to do this, you must specify 'dtype=object' when creating the ndarray.\n  X = np.atleast_1d(X.T if isinstance(X, np.ndarray) else np.asarray(X))\n/root/venv/lib/python3.9/site-packages/matplotlib/cbook/__init__.py:1376: VisibleDeprecationWarning: Creating an ndarray from ragged nested sequences (which is a list-or-tuple of lists-or-tuples-or ndarrays with different lengths or shapes) is deprecated. If you meant to do this, you must specify 'dtype=object' when creating the ndarray.\n  X = np.atleast_1d(X.T if isinstance(X, np.ndarray) else np.asarray(X))\n",
     "output_type": "stream"
    },
    {
     "data": {
      "text/plain": "<Figure size 864x576 with 9 Axes>",
      "image/png": "[encoded data removed]"
     },
     "metadata": {
      "needs_background": "light",
      "image/png": {
       "width": 878,
       "height": 580
      }
     },
     "output_type": "display_data"
    }
   ]
  },
  {
   "cell_type": "code",
   "metadata": {
    "cell_id": "e781efabe2214185b072bd53f07fd040",
    "tags": [],
    "deepnote_to_be_reexecuted": false,
    "source_hash": "5bf4f1a5",
    "execution_start": 1655930763314,
    "execution_millis": 42,
    "deepnote_cell_type": "code",
    "deepnote_cell_height": 243
   },
   "source": "def remove_aoutliers_IQR(series):\n    Q1 = series.quantile(0.25)\n    Q3 = series.quantile(0.75)\n    IQR = Q3-Q1\n\n    min_value = Q1-1.5*IQR\n    max_value = Q3+1.5*IQR\n\n    series_clean_index = (series > min_value) & (series < max_value)\n    return series[series_clean_index]",
   "execution_count": 17,
   "outputs": []
  },
  {
   "cell_type": "code",
   "metadata": {
    "cell_id": "9cc3ed1da0514251ba5b5811e9574156",
    "tags": [],
    "deepnote_to_be_reexecuted": false,
    "source_hash": "c25a86a2",
    "execution_start": 1655930763356,
    "execution_millis": 2153,
    "deepnote_cell_type": "code",
    "deepnote_cell_height": 1227.796875,
    "deepnote_output_heights": [
     null,
     582
    ]
   },
   "source": "df_clean = df_filled[columns].apply(remove_aoutliers_IQR).dropna()\n\nfig,axs = plt.subplots(3,3,figsize=(12,8),sharey=False)\nplt.tight_layout(w_pad=4)\ncolumn = set(df_filled.columns)-set(['Date','type'])\n\nfor feature, ax in zip(columns,axs.flatten()): \n    data = pd.concat([df_filled[feature],df_clean[feature]],axis=1)   \n    data.columns = ['filled','clean']\n\n    data.plot(kind='box',label=f'filled',ax=ax)\n    ax.set_title(feature)",
   "execution_count": 18,
   "outputs": [
    {
     "name": "stderr",
     "text": "/root/venv/lib/python3.9/site-packages/matplotlib/cbook/__init__.py:1376: VisibleDeprecationWarning: Creating an ndarray from ragged nested sequences (which is a list-or-tuple of lists-or-tuples-or ndarrays with different lengths or shapes) is deprecated. If you meant to do this, you must specify 'dtype=object' when creating the ndarray.\n  X = np.atleast_1d(X.T if isinstance(X, np.ndarray) else np.asarray(X))\n/root/venv/lib/python3.9/site-packages/matplotlib/cbook/__init__.py:1376: VisibleDeprecationWarning: Creating an ndarray from ragged nested sequences (which is a list-or-tuple of lists-or-tuples-or ndarrays with different lengths or shapes) is deprecated. If you meant to do this, you must specify 'dtype=object' when creating the ndarray.\n  X = np.atleast_1d(X.T if isinstance(X, np.ndarray) else np.asarray(X))\n/root/venv/lib/python3.9/site-packages/matplotlib/cbook/__init__.py:1376: VisibleDeprecationWarning: Creating an ndarray from ragged nested sequences (which is a list-or-tuple of lists-or-tuples-or ndarrays with different lengths or shapes) is deprecated. If you meant to do this, you must specify 'dtype=object' when creating the ndarray.\n  X = np.atleast_1d(X.T if isinstance(X, np.ndarray) else np.asarray(X))\n/root/venv/lib/python3.9/site-packages/matplotlib/cbook/__init__.py:1376: VisibleDeprecationWarning: Creating an ndarray from ragged nested sequences (which is a list-or-tuple of lists-or-tuples-or ndarrays with different lengths or shapes) is deprecated. If you meant to do this, you must specify 'dtype=object' when creating the ndarray.\n  X = np.atleast_1d(X.T if isinstance(X, np.ndarray) else np.asarray(X))\n/root/venv/lib/python3.9/site-packages/matplotlib/cbook/__init__.py:1376: VisibleDeprecationWarning: Creating an ndarray from ragged nested sequences (which is a list-or-tuple of lists-or-tuples-or ndarrays with different lengths or shapes) is deprecated. If you meant to do this, you must specify 'dtype=object' when creating the ndarray.\n  X = np.atleast_1d(X.T if isinstance(X, np.ndarray) else np.asarray(X))\n/root/venv/lib/python3.9/site-packages/matplotlib/cbook/__init__.py:1376: VisibleDeprecationWarning: Creating an ndarray from ragged nested sequences (which is a list-or-tuple of lists-or-tuples-or ndarrays with different lengths or shapes) is deprecated. If you meant to do this, you must specify 'dtype=object' when creating the ndarray.\n  X = np.atleast_1d(X.T if isinstance(X, np.ndarray) else np.asarray(X))\n/root/venv/lib/python3.9/site-packages/matplotlib/cbook/__init__.py:1376: VisibleDeprecationWarning: Creating an ndarray from ragged nested sequences (which is a list-or-tuple of lists-or-tuples-or ndarrays with different lengths or shapes) is deprecated. If you meant to do this, you must specify 'dtype=object' when creating the ndarray.\n  X = np.atleast_1d(X.T if isinstance(X, np.ndarray) else np.asarray(X))\n/root/venv/lib/python3.9/site-packages/matplotlib/cbook/__init__.py:1376: VisibleDeprecationWarning: Creating an ndarray from ragged nested sequences (which is a list-or-tuple of lists-or-tuples-or ndarrays with different lengths or shapes) is deprecated. If you meant to do this, you must specify 'dtype=object' when creating the ndarray.\n  X = np.atleast_1d(X.T if isinstance(X, np.ndarray) else np.asarray(X))\n",
     "output_type": "stream"
    },
    {
     "data": {
      "text/plain": "<Figure size 864x576 with 9 Axes>",
      "image/png": "[encoded data removed]"
     },
     "metadata": {
      "needs_background": "light",
      "image/png": {
       "width": 872,
       "height": 580
      }
     },
     "output_type": "display_data"
    }
   ]
  },
  {
   "cell_type": "code",
   "source": "df_clean.info()",
   "metadata": {
    "cell_id": "fe38bef343ab445d89e73ef57d52ed94",
    "tags": [],
    "deepnote_to_be_reexecuted": false,
    "source_hash": "895f2af7",
    "execution_start": 1655930765514,
    "execution_millis": 4,
    "deepnote_cell_type": "code",
    "deepnote_cell_height": 392
   },
   "outputs": [
    {
     "name": "stdout",
     "text": "<class 'pandas.core.frame.DataFrame'>\nInt64Index: 4084 entries, 0 to 6433\nData columns (total 8 columns):\n #   Column        Non-Null Count  Dtype  \n---  ------        --------------  -----  \n 0   MarkDown1     4084 non-null   float64\n 1   MarkDown2     4084 non-null   float64\n 2   MarkDown3     4084 non-null   float64\n 3   MarkDown4     4084 non-null   float64\n 4   MarkDown5     4084 non-null   float64\n 5   CPI           4084 non-null   float64\n 6   Unemployment  4084 non-null   float64\n 7   Weekly_Sales  4084 non-null   float64\ndtypes: float64(8)\nmemory usage: 416.2 KB\n",
     "output_type": "stream"
    }
   ],
   "execution_count": 19
  },
  {
   "cell_type": "markdown",
   "source": "there is a lot of outliers so for the exploration it will be use a convination both datsets `df_clean` y `df_filled` para realizar analisis y predicciones",
   "metadata": {
    "cell_id": "bee17be627f0493786d5ef51c7ba40c2",
    "tags": [],
    "deepnote_to_be_reexecuted": false,
    "source_hash": "52345631",
    "execution_start": 1655861727093,
    "execution_millis": 12,
    "deepnote_cell_type": "markdown",
    "deepnote_cell_height": 52.390625
   }
  },
  {
   "cell_type": "markdown",
   "source": "<a style='text-decoration:none;line-height:16px;display:flex;color:#5B5B62;padding:10px;justify-content:end;' href='https://deepnote.com?utm_source=created-in-deepnote-cell&projectId=740c3fbb-6503-48b5-8790-fc69ebaa42e0' target=\"_blank\">\n<img alt='Created in deepnote.com' style='display:inline;max-height:16px;margin:0px;margin-right:7.5px;' src='data:image/svg+xml;base64,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' > </img>\nCreated in <span style='font-weight:600;margin-left:4px;'>Deepnote</span></a>",
   "metadata": {
    "tags": [],
    "created_in_deepnote_cell": true,
    "deepnote_cell_type": "markdown"
   }
  }
 ],
 "nbformat": 4,
 "nbformat_minor": 2,
 "metadata": {
  "orig_nbformat": 2,
  "deepnote": {},
  "deepnote_notebook_id": "e091ea8d-13ea-4117-a691-2fa9aa0f429f",
  "deepnote_execution_queue": []
 }
}